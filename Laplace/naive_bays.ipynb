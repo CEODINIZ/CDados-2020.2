{
 "cells": [
  {
   "cell_type": "code",
   "execution_count": 69,
   "metadata": {},
   "outputs": [],
   "source": [
    "#importar bibliotecas\n",
    "import re\n",
    "import string\n",
    "import os.path\n",
    "import pandas as pd\n",
    "import matplotlib.pyplot as plt\n",
    "\n",
    "import warnings\n",
    "warnings.filterwarnings(\"ignore\") "
   ]
  },
  {
   "cell_type": "code",
   "execution_count": 70,
   "metadata": {},
   "outputs": [
    {
     "data": {
      "text/html": [
       "<div>\n",
       "<style scoped>\n",
       "    .dataframe tbody tr th:only-of-type {\n",
       "        vertical-align: middle;\n",
       "    }\n",
       "\n",
       "    .dataframe tbody tr th {\n",
       "        vertical-align: top;\n",
       "    }\n",
       "\n",
       "    .dataframe thead th {\n",
       "        text-align: right;\n",
       "    }\n",
       "</style>\n",
       "<table border=\"1\" class=\"dataframe\">\n",
       "  <thead>\n",
       "    <tr style=\"text-align: right;\">\n",
       "      <th></th>\n",
       "      <th>Treinamento</th>\n",
       "      <th>Classificado</th>\n",
       "    </tr>\n",
       "  </thead>\n",
       "  <tbody>\n",
       "    <tr>\n",
       "      <th>0</th>\n",
       "      <td>fortnite no playstation 5 no dia do lançamento...</td>\n",
       "      <td>0</td>\n",
       "    </tr>\n",
       "    <tr>\n",
       "      <th>1</th>\n",
       "      <td>o anúncio ocorre um dia após a sony brasil ter...</td>\n",
       "      <td>0</td>\n",
       "    </tr>\n",
       "    <tr>\n",
       "      <th>2</th>\n",
       "      <td>o playstation 5 é bonito? é! quero um? sim! te...</td>\n",
       "      <td>1</td>\n",
       "    </tr>\n",
       "    <tr>\n",
       "      <th>3</th>\n",
       "      <td>@playstation_br vou ao paraguai e trazer para ...</td>\n",
       "      <td>1</td>\n",
       "    </tr>\n",
       "    <tr>\n",
       "      <th>4</th>\n",
       "      <td>@stefano_poke nao viaja pelo amor de deus....\\...</td>\n",
       "      <td>1</td>\n",
       "    </tr>\n",
       "    <tr>\n",
       "      <th>...</th>\n",
       "      <td>...</td>\n",
       "      <td>...</td>\n",
       "    </tr>\n",
       "    <tr>\n",
       "      <th>295</th>\n",
       "      <td>jogos first-party do playstation 5 chegam ao p...</td>\n",
       "      <td>0</td>\n",
       "    </tr>\n",
       "    <tr>\n",
       "      <th>296</th>\n",
       "      <td>@playstation_br 5 mil reais mano? ajuda nóis, ...</td>\n",
       "      <td>1</td>\n",
       "    </tr>\n",
       "    <tr>\n",
       "      <th>297</th>\n",
       "      <td>queria muito o playstation 5 mas 4 mil reais, ...</td>\n",
       "      <td>1</td>\n",
       "    </tr>\n",
       "    <tr>\n",
       "      <th>298</th>\n",
       "      <td>comprar um playstation 5, só para jogar harry ...</td>\n",
       "      <td>1</td>\n",
       "    </tr>\n",
       "    <tr>\n",
       "      <th>299</th>\n",
       "      <td>playstation 5 = 5 mil reais.... outro console ...</td>\n",
       "      <td>1</td>\n",
       "    </tr>\n",
       "  </tbody>\n",
       "</table>\n",
       "<p>300 rows × 2 columns</p>\n",
       "</div>"
      ],
      "text/plain": [
       "                                           Treinamento  Classificado\n",
       "0    fortnite no playstation 5 no dia do lançamento...             0\n",
       "1    o anúncio ocorre um dia após a sony brasil ter...             0\n",
       "2    o playstation 5 é bonito? é! quero um? sim! te...             1\n",
       "3    @playstation_br vou ao paraguai e trazer para ...             1\n",
       "4    @stefano_poke nao viaja pelo amor de deus....\\...             1\n",
       "..                                                 ...           ...\n",
       "295  jogos first-party do playstation 5 chegam ao p...             0\n",
       "296  @playstation_br 5 mil reais mano? ajuda nóis, ...             1\n",
       "297  queria muito o playstation 5 mas 4 mil reais, ...             1\n",
       "298  comprar um playstation 5, só para jogar harry ...             1\n",
       "299  playstation 5 = 5 mil reais.... outro console ...             1\n",
       "\n",
       "[300 rows x 2 columns]"
      ]
     },
     "execution_count": 70,
     "metadata": {},
     "output_type": "execute_result"
    }
   ],
   "source": [
    "#ler os data coletados\n",
    "# -*- coding: utf-8 -*-\n",
    "\n",
    "data = pd.read_excel(\"PS5_classificado-2.xlsx\")\n",
    "#data.sort_values(by=\"Classificado\")\n",
    "data"
   ]
  },
  {
   "cell_type": "code",
   "execution_count": 71,
   "metadata": {},
   "outputs": [],
   "source": [
    "# definir 0 como irrelevante e 1 como relevante, variavel categorica\n",
    "\n",
    "data[\"Classificado\"] = data[\"Classificado\"].astype('category')\n",
    "data[\"Classificado\"].cat.categories = ['relevante', 'irrelevante']\n",
    "\n"
   ]
  },
  {
   "cell_type": "code",
   "execution_count": 72,
   "metadata": {},
   "outputs": [
    {
     "data": {
      "text/html": [
       "<div>\n",
       "<style scoped>\n",
       "    .dataframe tbody tr th:only-of-type {\n",
       "        vertical-align: middle;\n",
       "    }\n",
       "\n",
       "    .dataframe tbody tr th {\n",
       "        vertical-align: top;\n",
       "    }\n",
       "\n",
       "    .dataframe thead th {\n",
       "        text-align: right;\n",
       "    }\n",
       "</style>\n",
       "<table border=\"1\" class=\"dataframe\">\n",
       "  <thead>\n",
       "    <tr style=\"text-align: right;\">\n",
       "      <th></th>\n",
       "      <th>Treinamento</th>\n",
       "      <th>Classificado</th>\n",
       "    </tr>\n",
       "  </thead>\n",
       "  <tbody>\n",
       "    <tr>\n",
       "      <th>0</th>\n",
       "      <td>fortnite no playstation 5 no dia do lanamento ...</td>\n",
       "      <td>relevante</td>\n",
       "    </tr>\n",
       "    <tr>\n",
       "      <th>1</th>\n",
       "      <td>o anncio ocorre um dia aps a sony brasil ter a...</td>\n",
       "      <td>relevante</td>\n",
       "    </tr>\n",
       "    <tr>\n",
       "      <th>2</th>\n",
       "      <td>o playstation 5  bonito    quero um  sim  tenh...</td>\n",
       "      <td>irrelevante</td>\n",
       "    </tr>\n",
       "    <tr>\n",
       "      <th>3</th>\n",
       "      <td>@playstation_br vou ao paraguai e trazer para ...</td>\n",
       "      <td>irrelevante</td>\n",
       "    </tr>\n",
       "    <tr>\n",
       "      <th>4</th>\n",
       "      <td>@stefano_poke nao viaja pelo amor de deus     ...</td>\n",
       "      <td>irrelevante</td>\n",
       "    </tr>\n",
       "    <tr>\n",
       "      <th>...</th>\n",
       "      <td>...</td>\n",
       "      <td>...</td>\n",
       "    </tr>\n",
       "    <tr>\n",
       "      <th>295</th>\n",
       "      <td>jogos first-party do playstation 5 chegam ao p...</td>\n",
       "      <td>relevante</td>\n",
       "    </tr>\n",
       "    <tr>\n",
       "      <th>296</th>\n",
       "      <td>@playstation_br 5 mil reais mano  ajuda nis  e...</td>\n",
       "      <td>irrelevante</td>\n",
       "    </tr>\n",
       "    <tr>\n",
       "      <th>297</th>\n",
       "      <td>queria muito o playstation 5 mas 4 mil reais  ...</td>\n",
       "      <td>irrelevante</td>\n",
       "    </tr>\n",
       "    <tr>\n",
       "      <th>298</th>\n",
       "      <td>comprar um playstation 5  s para jogar harry p...</td>\n",
       "      <td>irrelevante</td>\n",
       "    </tr>\n",
       "    <tr>\n",
       "      <th>299</th>\n",
       "      <td>playstation 5 = 5 mil reais     outro console ...</td>\n",
       "      <td>irrelevante</td>\n",
       "    </tr>\n",
       "  </tbody>\n",
       "</table>\n",
       "<p>300 rows × 2 columns</p>\n",
       "</div>"
      ],
      "text/plain": [
       "                                           Treinamento Classificado\n",
       "0    fortnite no playstation 5 no dia do lanamento ...    relevante\n",
       "1    o anncio ocorre um dia aps a sony brasil ter a...    relevante\n",
       "2    o playstation 5  bonito    quero um  sim  tenh...  irrelevante\n",
       "3    @playstation_br vou ao paraguai e trazer para ...  irrelevante\n",
       "4    @stefano_poke nao viaja pelo amor de deus     ...  irrelevante\n",
       "..                                                 ...          ...\n",
       "295  jogos first-party do playstation 5 chegam ao p...    relevante\n",
       "296  @playstation_br 5 mil reais mano  ajuda nis  e...  irrelevante\n",
       "297  queria muito o playstation 5 mas 4 mil reais  ...  irrelevante\n",
       "298  comprar um playstation 5  s para jogar harry p...  irrelevante\n",
       "299  playstation 5 = 5 mil reais     outro console ...  irrelevante\n",
       "\n",
       "[300 rows x 2 columns]"
      ]
     },
     "execution_count": 72,
     "metadata": {},
     "output_type": "execute_result"
    }
   ],
   "source": [
    "def clean(tweet):\n",
    "    return ''.join([i if ord(i) < 128 else '' for i in tweet])\n",
    "data[\"Treinamento\"] = data[\"Treinamento\"].apply(clean)\n",
    "data[\"Treinamento\"] = data[\"Treinamento\"].apply(lambda x: x.lower())\n",
    "data[\"Treinamento\"] = data[\"Treinamento\"].apply(lambda x: x.replace('.',' '))\n",
    "data[\"Treinamento\"] = data[\"Treinamento\"].apply(lambda x: x.replace('\\n',' '))\n",
    "data[\"Treinamento\"] = data[\"Treinamento\"].apply(lambda x: x.replace('?',' '))\n",
    "data[\"Treinamento\"] = data[\"Treinamento\"].apply(lambda x: x.replace('!',' '))\n",
    "data[\"Treinamento\"] = data[\"Treinamento\"].apply(lambda x: x.replace('\"',' '))\n",
    "data[\"Treinamento\"] = data[\"Treinamento\"].apply(lambda x: x.replace(';',' '))\n",
    "data[\"Treinamento\"] = data[\"Treinamento\"].apply(lambda x: x.replace('#',' '))\n",
    "data[\"Treinamento\"] = data[\"Treinamento\"].apply(lambda x: x.replace('&amp',' '))\n",
    "data[\"Treinamento\"] = data[\"Treinamento\"].apply(lambda x: x.replace(',',' '))\n",
    "data"
   ]
  },
  {
   "cell_type": "code",
   "execution_count": 73,
   "metadata": {},
   "outputs": [
    {
     "name": "stdout",
     "output_type": "stream",
     "text": [
      "O numero de dados relevantes é: 211\n"
     ]
    }
   ],
   "source": [
    "relevante = data[\"Classificado\"] == 'relevante'\n",
    "data1 = data.loc[relevante, :]\n",
    "total_relevante = data1.Classificado.value_counts()[0]\n",
    "print(\"O numero de dados relevantes é: {0}\".format(total_relevante))"
   ]
  },
  {
   "cell_type": "code",
   "execution_count": 74,
   "metadata": {},
   "outputs": [
    {
     "name": "stdout",
     "output_type": "stream",
     "text": [
      "O numero de dados irrelevantes antes de filtro é: 89\n"
     ]
    }
   ],
   "source": [
    "irrelevante = data[\"Classificado\"] == 'irrelevante'\n",
    "data2 = data.loc[irrelevante, :]\n",
    "total_irrelevante = data2.Classificado.value_counts()[1]\n",
    "print(\"O numero de dados irrelevantes antes de filtro é: {0}\".format(total_irrelevante))"
   ]
  },
  {
   "cell_type": "code",
   "execution_count": 75,
   "metadata": {},
   "outputs": [
    {
     "data": {
      "text/plain": [
       "300"
      ]
     },
     "execution_count": 75,
     "metadata": {},
     "output_type": "execute_result"
    }
   ],
   "source": [
    "#listagem de dados relevantes\n",
    "total_palavras = total_relevante+total_irrelevante\n",
    "total_palavras"
   ]
  },
  {
   "cell_type": "code",
   "execution_count": 76,
   "metadata": {},
   "outputs": [
    {
     "data": {
      "text/plain": [
       "5              0.076190\n",
       "playstation    0.057143\n",
       "...            0.057143\n",
       "mil            0.028571\n",
       "reais          0.028571\n",
       "                 ...   \n",
       "0              0.009524\n",
       "300,           0.009524\n",
       "quero          0.009524\n",
       "Length:        0.009524\n",
       "296            0.009524\n",
       "Length: 72, dtype: float64"
      ]
     },
     "execution_count": 76,
     "metadata": {},
     "output_type": "execute_result"
    }
   ],
   "source": [
    "palavras = str(data.Treinamento)\n",
    "palavras = pd.Series(palavras.split())\n",
    "palavras = palavras.value_counts(True)\n",
    "palavras"
   ]
  },
  {
   "cell_type": "code",
   "execution_count": 77,
   "metadata": {},
   "outputs": [
    {
     "data": {
      "text/plain": [
       "0                 0\n",
       "1          fortnite\n",
       "2                no\n",
       "3       playstation\n",
       "4                 5\n",
       "           ...     \n",
       "103    Treinamento,\n",
       "104         Length:\n",
       "105            211,\n",
       "106          dtype:\n",
       "107          object\n",
       "Length: 108, dtype: object"
      ]
     },
     "execution_count": 77,
     "metadata": {},
     "output_type": "execute_result"
    }
   ],
   "source": [
    "lista_relevante =  str(data1.Treinamento)\n",
    "relevante = pd.Series(lista_relevante.split())\n",
    "relevante"
   ]
  },
  {
   "cell_type": "code",
   "execution_count": 78,
   "metadata": {},
   "outputs": [],
   "source": [
    "#tabelas de frequencia "
   ]
  },
  {
   "cell_type": "code",
   "execution_count": 79,
   "metadata": {},
   "outputs": [
    {
     "data": {
      "text/plain": [
       "1.0000000000000002"
      ]
     },
     "execution_count": 79,
     "metadata": {},
     "output_type": "execute_result"
    }
   ],
   "source": [
    "tabela_relevante_absoluta = relevante.value_counts()\n",
    "tabela_relevante_relativa = relevante.value_counts(True)\n",
    "tabela_relevante_relativa.sum()"
   ]
  },
  {
   "cell_type": "code",
   "execution_count": 80,
   "metadata": {},
   "outputs": [],
   "source": [
    "#listagem de dados irrelevantes"
   ]
  },
  {
   "cell_type": "code",
   "execution_count": 81,
   "metadata": {},
   "outputs": [
    {
     "data": {
      "text/plain": [
       "0                 2\n",
       "1                 o\n",
       "2       playstation\n",
       "3                 5\n",
       "4            bonito\n",
       "           ...     \n",
       "99     Treinamento,\n",
       "100         Length:\n",
       "101             89,\n",
       "102          dtype:\n",
       "103          object\n",
       "Length: 104, dtype: object"
      ]
     },
     "execution_count": 81,
     "metadata": {},
     "output_type": "execute_result"
    }
   ],
   "source": [
    "lista_irrelevante =  str(data2.Treinamento)\n",
    "irrelevante = pd.Series(lista_irrelevante.split())\n",
    "irrelevante"
   ]
  },
  {
   "cell_type": "code",
   "execution_count": 82,
   "metadata": {},
   "outputs": [
    {
     "data": {
      "text/plain": [
       "0.9999999999999996"
      ]
     },
     "execution_count": 82,
     "metadata": {},
     "output_type": "execute_result"
    }
   ],
   "source": [
    "tabela_irrelevante_absoluta = irrelevante.value_counts()\n",
    "tabela_irrelevante_relativa = irrelevante.value_counts(True)\n",
    "tabela_irrelevante_relativa.sum()"
   ]
  },
  {
   "cell_type": "code",
   "execution_count": 83,
   "metadata": {},
   "outputs": [
    {
     "data": {
      "text/plain": [
       "0.037037037037037035"
      ]
     },
     "execution_count": 83,
     "metadata": {},
     "output_type": "execute_result"
    }
   ],
   "source": [
    "tabela_relevante_relativa[\"playstation\"]\n"
   ]
  },
  {
   "cell_type": "code",
   "execution_count": 84,
   "metadata": {},
   "outputs": [
    {
     "data": {
      "text/plain": [
       "0.0673076923076923"
      ]
     },
     "execution_count": 84,
     "metadata": {},
     "output_type": "execute_result"
    }
   ],
   "source": [
    "tabela_irrelevante_relativa[\"playstation\"]"
   ]
  },
  {
   "cell_type": "code",
   "execution_count": 85,
   "metadata": {},
   "outputs": [
    {
     "data": {
      "text/plain": [
       "'sony fez evento anunciando playstation 5  mostrou valor e data  s que ai vem uma questo que complicou a nao gamer  ps5 ir custar 5k  no tem jogador que aguente '"
      ]
     },
     "execution_count": 85,
     "metadata": {},
     "output_type": "execute_result"
    }
   ],
   "source": [
    "# teste de tweet a classificar\n",
    "\n",
    "import random\n",
    "tweet_aleatorio = random.randint(0, 301)\n",
    "\n",
    "\n",
    "frase_teste = data.Treinamento[tweet_aleatorio]\n",
    "#frase_teste = clean(frase_teste.lower())\n",
    "frase_teste"
   ]
  },
  {
   "cell_type": "code",
   "execution_count": 86,
   "metadata": {},
   "outputs": [
    {
     "data": {
      "text/plain": [
       "['sony',\n",
       " 'fez',\n",
       " 'evento',\n",
       " 'anunciando',\n",
       " 'playstation',\n",
       " '5',\n",
       " 'mostrou',\n",
       " 'valor',\n",
       " 'e',\n",
       " 'data',\n",
       " 's',\n",
       " 'que',\n",
       " 'ai',\n",
       " 'vem',\n",
       " 'uma',\n",
       " 'questo',\n",
       " 'que',\n",
       " 'complicou',\n",
       " 'a',\n",
       " 'nao',\n",
       " 'gamer',\n",
       " 'ps5',\n",
       " 'ir',\n",
       " 'custar',\n",
       " '5k',\n",
       " 'no',\n",
       " 'tem',\n",
       " 'jogador',\n",
       " 'que',\n",
       " 'aguente']"
      ]
     },
     "execution_count": 86,
     "metadata": {},
     "output_type": "execute_result"
    }
   ],
   "source": [
    "frase = frase_teste.split()\n",
    "frase"
   ]
  },
  {
   "cell_type": "code",
   "execution_count": 87,
   "metadata": {},
   "outputs": [],
   "source": [
    "#teste de probabilidade"
   ]
  },
  {
   "cell_type": "code",
   "execution_count": 88,
   "metadata": {},
   "outputs": [
    {
     "name": "stdout",
     "output_type": "stream",
     "text": [
      "A probabilidade dos termos serem relevantes é:  0.5094339622641509\n",
      "A probabilidade dos termos serem irrelevantes é:  0.49056603773584906\n"
     ]
    }
   ],
   "source": [
    "prob_relevante = len(relevante)/(len(relevante)+len(irrelevante))\n",
    "prob_irrelevante = len(irrelevante)/(len(relevante)+len(irrelevante))\n",
    "\n",
    "print(\"A probabilidade dos termos serem relevantes é: \", prob_relevante)\n",
    "print(\"A probabilidade dos termos serem irrelevantes é: \", prob_irrelevante)\n"
   ]
  },
  {
   "cell_type": "raw",
   "metadata": {},
   "source": [
    "# probabilidade do tweet dado condicao: relevante ou irrelevante"
   ]
  },
  {
   "cell_type": "code",
   "execution_count": 89,
   "metadata": {},
   "outputs": [],
   "source": [
    "prob_tweet_dado_relevante = 1\n",
    "prob_tweet_dado_irrelevante = 1\n",
    "\n",
    "n_r = len(tabela_relevante_absoluta)\n",
    "n_ir = len(tabela_irrelevante_absoluta)\n",
    "\n",
    "\n",
    "for i in range(len(frase)):\n",
    "    if frase[i] not in tabela_relevante_absoluta:\n",
    "        prob_tweet_dado_relevante = prob_tweet_dado_relevante*((0+1)/(n_r+8)) \n",
    "    else:\n",
    "        \n",
    "        prob_tweet_dado_relevante = prob_tweet_dado_relevante*(tabela_relevante_absoluta[frase[i]]+1)/(n_r+8)\n",
    "        \n",
    "    if frase[i] not in tabela_irrelevante_absoluta:\n",
    "        prob_tweet_dado_irrelevante = prob_tweet_dado_irrelevante*((0+1)/(n_ir+8))\n",
    "    else:\n",
    "        \n",
    "        prob_tweet_dado_irrelevante = prob_tweet_dado_irrelevante*(tabela_irrelevante_absoluta[frase[i]]+1)/(n_ir+8)\n",
    "\n"
   ]
  },
  {
   "cell_type": "code",
   "execution_count": 90,
   "metadata": {},
   "outputs": [
    {
     "name": "stdout",
     "output_type": "stream",
     "text": [
      "3.844985890280884e-56\n",
      "3.254972965106059e-54\n"
     ]
    }
   ],
   "source": [
    "prob_tweet_dado_relevante = prob_tweet_dado_relevante*prob_relevante\n",
    "prob_tweet_dado_irrelevante = prob_tweet_dado_irrelevante*prob_irrelevante\n",
    "\n",
    "print(prob_tweet_dado_relevante)\n",
    "print(prob_tweet_dado_irrelevante)"
   ]
  },
  {
   "cell_type": "code",
   "execution_count": 91,
   "metadata": {},
   "outputs": [
    {
     "name": "stdout",
     "output_type": "stream",
     "text": [
      "Tweet irrelvante 84.65500415316939\n"
     ]
    }
   ],
   "source": [
    "if prob_tweet_dado_relevante/prob_tweet_dado_irrelevante > prob_tweet_dado_irrelevante/prob_tweet_dado_relevante:\n",
    "    print(\"Tweet relevante: \", prob_tweet_dado_relevante/prob_tweet_dado_irrelevante)\n",
    "else:\n",
    "    print(\"Tweet irrelvante\",prob_tweet_dado_irrelevante/prob_tweet_dado_relevante)"
   ]
  },
  {
   "cell_type": "code",
   "execution_count": 92,
   "metadata": {},
   "outputs": [
    {
     "data": {
      "text/plain": [
       "3.844985890280884e-56"
      ]
     },
     "execution_count": 92,
     "metadata": {},
     "output_type": "execute_result"
    }
   ],
   "source": [
    "prob_tweet_dado_relevante"
   ]
  },
  {
   "cell_type": "code",
   "execution_count": null,
   "metadata": {},
   "outputs": [],
   "source": []
  },
  {
   "cell_type": "code",
   "execution_count": null,
   "metadata": {},
   "outputs": [],
   "source": []
  },
  {
   "cell_type": "code",
   "execution_count": null,
   "metadata": {},
   "outputs": [],
   "source": []
  },
  {
   "cell_type": "code",
   "execution_count": null,
   "metadata": {},
   "outputs": [],
   "source": []
  },
  {
   "cell_type": "code",
   "execution_count": null,
   "metadata": {},
   "outputs": [],
   "source": []
  }
 ],
 "metadata": {
  "kernelspec": {
   "display_name": "Python 3",
   "language": "python",
   "name": "python3"
  },
  "language_info": {
   "codemirror_mode": {
    "name": "ipython",
    "version": 3
   },
   "file_extension": ".py",
   "mimetype": "text/x-python",
   "name": "python",
   "nbconvert_exporter": "python",
   "pygments_lexer": "ipython3",
   "version": "3.7.6"
  }
 },
 "nbformat": 4,
 "nbformat_minor": 4
}
