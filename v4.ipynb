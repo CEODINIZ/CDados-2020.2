{
 "cells": [
  {
   "cell_type": "code",
   "execution_count": 61,
   "metadata": {},
   "outputs": [],
   "source": [
    "#importar bibliotecas\n",
    "import re\n",
    "import os\n",
    "import string\n",
    "import os.path\n",
    "import pandas as pd\n",
    "import matplotlib.pyplot as plt\n",
    "\n",
    "import warnings\n",
    "warnings.filterwarnings(\"ignore\") "
   ]
  },
  {
   "cell_type": "code",
   "execution_count": null,
   "metadata": {},
   "outputs": [],
   "source": []
  },
  {
   "cell_type": "code",
   "execution_count": 62,
   "metadata": {},
   "outputs": [
    {
     "data": {
      "text/html": [
       "<div>\n",
       "<style scoped>\n",
       "    .dataframe tbody tr th:only-of-type {\n",
       "        vertical-align: middle;\n",
       "    }\n",
       "\n",
       "    .dataframe tbody tr th {\n",
       "        vertical-align: top;\n",
       "    }\n",
       "\n",
       "    .dataframe thead th {\n",
       "        text-align: right;\n",
       "    }\n",
       "</style>\n",
       "<table border=\"1\" class=\"dataframe\">\n",
       "  <thead>\n",
       "    <tr style=\"text-align: right;\">\n",
       "      <th></th>\n",
       "      <th>Treinamento</th>\n",
       "      <th>Classificado</th>\n",
       "    </tr>\n",
       "  </thead>\n",
       "  <tbody>\n",
       "    <tr>\n",
       "      <th>0</th>\n",
       "      <td>fortnite no playstation 5 no dia do lançamento...</td>\n",
       "      <td>0</td>\n",
       "    </tr>\n",
       "    <tr>\n",
       "      <th>1</th>\n",
       "      <td>o anúncio ocorre um dia após a sony brasil ter...</td>\n",
       "      <td>0</td>\n",
       "    </tr>\n",
       "    <tr>\n",
       "      <th>2</th>\n",
       "      <td>o playstation 5 é bonito? é! quero um? sim! te...</td>\n",
       "      <td>1</td>\n",
       "    </tr>\n",
       "    <tr>\n",
       "      <th>3</th>\n",
       "      <td>@playstation_br vou ao paraguai e trazer para ...</td>\n",
       "      <td>1</td>\n",
       "    </tr>\n",
       "    <tr>\n",
       "      <th>4</th>\n",
       "      <td>@stefano_poke nao viaja pelo amor de deus....\\...</td>\n",
       "      <td>1</td>\n",
       "    </tr>\n",
       "  </tbody>\n",
       "</table>\n",
       "</div>"
      ],
      "text/plain": [
       "                                         Treinamento  Classificado\n",
       "0  fortnite no playstation 5 no dia do lançamento...             0\n",
       "1  o anúncio ocorre um dia após a sony brasil ter...             0\n",
       "2  o playstation 5 é bonito? é! quero um? sim! te...             1\n",
       "3  @playstation_br vou ao paraguai e trazer para ...             1\n",
       "4  @stefano_poke nao viaja pelo amor de deus....\\...             1"
      ]
     },
     "execution_count": 62,
     "metadata": {},
     "output_type": "execute_result"
    }
   ],
   "source": [
    "#ler os data coletados\n",
    "# -*- coding: utf-8 -*-\n",
    "\n",
    "data = pd.read_excel(\"PS5_classificado-2.xlsx\")\n",
    "data.head()"
   ]
  },
  {
   "cell_type": "code",
   "execution_count": null,
   "metadata": {},
   "outputs": [],
   "source": []
  },
  {
   "cell_type": "code",
   "execution_count": 63,
   "metadata": {},
   "outputs": [
    {
     "data": {
      "text/html": [
       "<div>\n",
       "<style scoped>\n",
       "    .dataframe tbody tr th:only-of-type {\n",
       "        vertical-align: middle;\n",
       "    }\n",
       "\n",
       "    .dataframe tbody tr th {\n",
       "        vertical-align: top;\n",
       "    }\n",
       "\n",
       "    .dataframe thead th {\n",
       "        text-align: right;\n",
       "    }\n",
       "</style>\n",
       "<table border=\"1\" class=\"dataframe\">\n",
       "  <thead>\n",
       "    <tr style=\"text-align: right;\">\n",
       "      <th></th>\n",
       "      <th>Treinamento</th>\n",
       "      <th>Classificado</th>\n",
       "    </tr>\n",
       "  </thead>\n",
       "  <tbody>\n",
       "    <tr>\n",
       "      <th>0</th>\n",
       "      <td>fortnite no playstation 5 no dia do lançamento...</td>\n",
       "      <td>relevante</td>\n",
       "    </tr>\n",
       "    <tr>\n",
       "      <th>1</th>\n",
       "      <td>o anúncio ocorre um dia após a sony brasil ter...</td>\n",
       "      <td>relevante</td>\n",
       "    </tr>\n",
       "    <tr>\n",
       "      <th>2</th>\n",
       "      <td>o playstation 5 é bonito? é! quero um? sim! te...</td>\n",
       "      <td>irrelevante</td>\n",
       "    </tr>\n",
       "    <tr>\n",
       "      <th>3</th>\n",
       "      <td>@playstation_br vou ao paraguai e trazer para ...</td>\n",
       "      <td>irrelevante</td>\n",
       "    </tr>\n",
       "    <tr>\n",
       "      <th>4</th>\n",
       "      <td>@stefano_poke nao viaja pelo amor de deus....\\...</td>\n",
       "      <td>irrelevante</td>\n",
       "    </tr>\n",
       "  </tbody>\n",
       "</table>\n",
       "</div>"
      ],
      "text/plain": [
       "                                         Treinamento Classificado\n",
       "0  fortnite no playstation 5 no dia do lançamento...    relevante\n",
       "1  o anúncio ocorre um dia após a sony brasil ter...    relevante\n",
       "2  o playstation 5 é bonito? é! quero um? sim! te...  irrelevante\n",
       "3  @playstation_br vou ao paraguai e trazer para ...  irrelevante\n",
       "4  @stefano_poke nao viaja pelo amor de deus....\\...  irrelevante"
      ]
     },
     "execution_count": 63,
     "metadata": {},
     "output_type": "execute_result"
    }
   ],
   "source": [
    "# definir 0 como irrelevante e 1 como relevante, variavel categorica\n",
    "\n",
    "data[\"Classificado\"] = data[\"Classificado\"].astype('category')\n",
    "data[\"Classificado\"].cat.categories = ['relevante', 'irrelevante']\n",
    "data.head()"
   ]
  },
  {
   "cell_type": "code",
   "execution_count": 64,
   "metadata": {},
   "outputs": [
    {
     "data": {
      "text/plain": [
       "relevante      0.703333\n",
       "irrelevante    0.296667\n",
       "Name: Classificado, dtype: float64"
      ]
     },
     "execution_count": 64,
     "metadata": {},
     "output_type": "execute_result"
    }
   ],
   "source": [
    "def clean(tweet):\n",
    "    return ''.join([i if ord(i) < 128 else '' for i in tweet])\n",
    "data[\"Treinamento\"] = data[\"Treinamento\"].apply(clean)\n",
    "data[\"Treinamento\"] = data[\"Treinamento\"].apply(lambda x: x.lower())\n",
    "data[\"Treinamento\"] = data[\"Treinamento\"].apply(lambda x: x.replace('.',' '))\n",
    "data[\"Treinamento\"] = data[\"Treinamento\"].apply(lambda x: x.replace('\\n',' '))\n",
    "data[\"Treinamento\"] = data[\"Treinamento\"].apply(lambda x: x.replace('?',' '))\n",
    "data[\"Treinamento\"] = data[\"Treinamento\"].apply(lambda x: x.replace('!',' '))\n",
    "data[\"Treinamento\"] = data[\"Treinamento\"].apply(lambda x: x.replace('\"',' '))\n",
    "data[\"Treinamento\"] = data[\"Treinamento\"].apply(lambda x: x.replace(';',' '))\n",
    "data[\"Treinamento\"] = data[\"Treinamento\"].apply(lambda x: x.replace('#',' '))\n",
    "data[\"Treinamento\"] = data[\"Treinamento\"].apply(lambda x: x.replace('&amp',' '))\n",
    "data[\"Treinamento\"] = data[\"Treinamento\"].apply(lambda x: x.replace(',',' '))\n",
    "data.Classificado.value_counts(True)"
   ]
  },
  {
   "cell_type": "code",
   "execution_count": null,
   "metadata": {},
   "outputs": [],
   "source": []
  },
  {
   "cell_type": "code",
   "execution_count": 65,
   "metadata": {},
   "outputs": [],
   "source": [
    "filtro_data = data.Treinamento.str.cat()\n",
    "filtro_data = re.sub(\"[\" + string.punctuation + \"]\", \"\", filtro_data.lower())\n",
    "palavras = filtro_data.split() # lista de todas as palavras \n"
   ]
  },
  {
   "cell_type": "markdown",
   "metadata": {},
   "source": [
    "# Dashboard inicial"
   ]
  },
  {
   "cell_type": "code",
   "execution_count": 66,
   "metadata": {},
   "outputs": [
    {
     "name": "stdout",
     "output_type": "stream",
     "text": [
      "O total de palavras na planilha é:  5622\n",
      "----------------------------------------------------\n",
      "O total de palavras em relevantes é:  3954.14\n",
      "----------------------------------------------------\n",
      "O total de palavras em irrelevantes é:  1667.86\n",
      "----------------------------------------------------\n",
      "A probabilidade de palavras em relevantes é:  0.703\n",
      "----------------------------------------------------\n",
      "A probabilidade de palavras em relevantes é:  0.297\n"
     ]
    }
   ],
   "source": [
    "total = len(palavras) #numero total de palvras na base de dados\n",
    "num_rel = data.Classificado.value_counts(True)[0] # porcentagem de items relevantes\n",
    "num_irr = data.Classificado.value_counts(True)[1] # porcentagens de itens irrelevantes\n",
    "palavras_relevantes = total*data.Classificado.value_counts(True)[0]\n",
    "palavras_irrelevantes = total*data.Classificado.value_counts(True)[1]\n",
    "print(\"O total de palavras na planilha é: \",total)\n",
    "print(52*\"-\")\n",
    "print(\"O total de palavras em relevantes é: \", palavras_relevantes.round(3))\n",
    "print(52*\"-\")\n",
    "print(\"O total de palavras em irrelevantes é: \", palavras_irrelevantes.round(3))\n",
    "print(52*\"-\")\n",
    "print(\"A probabilidade de palavras em relevantes é: \",num_rel.round(3))\n",
    "print(52*\"-\")\n",
    "print(\"A probabilidade de palavras em relevantes é: \",num_irr.round(3))"
   ]
  },
  {
   "cell_type": "markdown",
   "metadata": {},
   "source": [
    "# Tabela relevante"
   ]
  },
  {
   "cell_type": "markdown",
   "metadata": {},
   "source": [
    "## Tabela absoluta:"
   ]
  },
  {
   "cell_type": "code",
   "execution_count": 67,
   "metadata": {},
   "outputs": [
    {
     "name": "stdout",
     "output_type": "stream",
     "text": [
      "5              174\n",
      "playstation    141\n",
      "https://t      141\n",
      "no             123\n",
      "o              113\n",
      "              ... \n",
      "diferena         1\n",
      "errei            1\n",
      "kkk              1\n",
      "(ps5):           1\n",
      "bunda            1\n",
      "Length: 1268, dtype: int64\n",
      "Numero total de palavras relevantes:  4059\n"
     ]
    }
   ],
   "source": [
    "relevante = data[\"Classificado\"] == 'relevante' # pegar somente dados classificados como relevante\n",
    "data_relevante = data.loc[relevante, :] # filtrar no dataframe\n",
    "tweet_relevante = pd.Series(data_relevante.Treinamento) #gera uma series de dados relevantes\n",
    "tweet_relevante = pd.DataFrame(tweet_relevante) #transforma a series em um dataframe\n",
    "tweet_relevante[\"Treinamento\"] = tweet_relevante[\"Treinamento\"].apply(clean)\n",
    "palavras_relevantes = tweet_relevante.Treinamento.str.cat() # transforma o dataframe em uma lista de palavras\n",
    "palavras_relevantes = palavras_relevantes.split()\n",
    "palavras_relevantes = pd.Series(palavras_relevantes)\n",
    "\n",
    "\n",
    "abs_relevante = palavras_relevantes.value_counts()\n",
    "total_relevante = abs_relevante.sum()\n",
    "print(abs_relevante)\n",
    "print(\"Numero total de palavras relevantes: \", total_relevante)\n",
    "\n"
   ]
  },
  {
   "cell_type": "markdown",
   "metadata": {},
   "source": [
    "## Tabela relativa"
   ]
  },
  {
   "cell_type": "code",
   "execution_count": 68,
   "metadata": {},
   "outputs": [
    {
     "name": "stdout",
     "output_type": "stream",
     "text": [
      "5              0.042868\n",
      "playstation    0.034738\n",
      "https://t      0.034738\n",
      "no             0.030303\n",
      "o              0.027839\n",
      "                 ...   \n",
      "diferena       0.000246\n",
      "errei          0.000246\n",
      "kkk            0.000246\n",
      "(ps5):         0.000246\n",
      "bunda          0.000246\n",
      "Length: 1268, dtype: float64\n",
      "1.0\n"
     ]
    }
   ],
   "source": [
    "rel_relevante = palavras_relevantes.value_counts(True)\n",
    "print(rel_relevante)\n",
    "print(rel_relevante.sum())"
   ]
  },
  {
   "cell_type": "markdown",
   "metadata": {},
   "source": [
    "# Tabelas irrelevante absoluta e relativa"
   ]
  },
  {
   "cell_type": "markdown",
   "metadata": {},
   "source": [
    "## Tabela absoluta"
   ]
  },
  {
   "cell_type": "code",
   "execution_count": 69,
   "metadata": {},
   "outputs": [
    {
     "name": "stdout",
     "output_type": "stream",
     "text": [
      "5              91\n",
      "playstation    72\n",
      "o              61\n",
      "eu             40\n",
      "um             39\n",
      "               ..\n",
      "contigo         1\n",
      "trazer          1\n",
      "real:           1\n",
      "bela            1\n",
      "atari           1\n",
      "Length: 606, dtype: int64\n",
      "Numero total de palavras irrelevantes:  1613\n"
     ]
    }
   ],
   "source": [
    "irrelevante = data[\"Classificado\"] == 'irrelevante' # pegar somente dados classificados como relevante\n",
    "data_irrelevante = data.loc[irrelevante, :] # filtrar no dataframe\n",
    "tweet_irrelevante = pd.Series(data_irrelevante.Treinamento) #gera uma series de dados relevantes\n",
    "tweet_irrelevante = pd.DataFrame(tweet_irrelevante) #transforma a series em um dataframe\n",
    "tweet_irrelevante[\"Treinamento\"] = tweet_irrelevante[\"Treinamento\"].apply(clean)\n",
    "palavras_irrelevantes = tweet_irrelevante.Treinamento.str.cat() # transforma o dataframe em uma lista de palavras\n",
    "palavras_irrelevantes = palavras_irrelevantes.split()\n",
    "palavras_irrelevantes = pd.Series(palavras_irrelevantes)\n",
    "\n",
    "\n",
    "abs_irrelevante = palavras_irrelevantes.value_counts()\n",
    "total_irrelevante = abs_irrelevante.sum()\n",
    "print(abs_irrelevante)\n",
    "print(\"Numero total de palavras irrelevantes: \", total_irrelevante)\n",
    "\n",
    "\n",
    "\n"
   ]
  },
  {
   "cell_type": "code",
   "execution_count": null,
   "metadata": {},
   "outputs": [],
   "source": []
  },
  {
   "cell_type": "code",
   "execution_count": 70,
   "metadata": {},
   "outputs": [
    {
     "name": "stdout",
     "output_type": "stream",
     "text": [
      "5              0.056417\n",
      "playstation    0.044637\n",
      "o              0.037818\n",
      "eu             0.024799\n",
      "um             0.024179\n",
      "                 ...   \n",
      "contigo        0.000620\n",
      "trazer         0.000620\n",
      "real:          0.000620\n",
      "bela           0.000620\n",
      "atari          0.000620\n",
      "Length: 606, dtype: float64\n",
      "0.9999999999999999\n"
     ]
    }
   ],
   "source": [
    "## Tabela relativa\n",
    "rel_irrelevante = palavras_irrelevantes.value_counts(True)\n",
    "print(rel_irrelevante)\n",
    "print(rel_irrelevante.sum())"
   ]
  },
  {
   "cell_type": "markdown",
   "metadata": {},
   "source": [
    "## Dashboard de resultados:"
   ]
  },
  {
   "cell_type": "code",
   "execution_count": 71,
   "metadata": {},
   "outputs": [
    {
     "name": "stdout",
     "output_type": "stream",
     "text": [
      "Numero total de palavras relevantes é:  4059\n",
      "Numero total de palavras irrelevantes é:  1613\n",
      "Numero total de palavras apos o filtro/ajustes é:  5672\n"
     ]
    }
   ],
   "source": [
    "print(\"Numero total de palavras relevantes é: \", total_relevante)\n",
    "print(\"Numero total de palavras irrelevantes é: \", total_irrelevante)\n",
    "total2 = total_relevante+total_irrelevante\n",
    "print(\"Numero total de palavras apos o filtro/ajustes é: \",  total2)"
   ]
  },
  {
   "cell_type": "markdown",
   "metadata": {},
   "source": [
    "# Probabilidades"
   ]
  },
  {
   "cell_type": "code",
   "execution_count": 72,
   "metadata": {},
   "outputs": [
    {
     "name": "stdout",
     "output_type": "stream",
     "text": [
      "A probabilidade de ser relevante é:  0.715620592383639\n",
      "A probabilidade de ser irrelevante é:  0.28437940761636105\n",
      "Checagem:  1.0\n"
     ]
    }
   ],
   "source": [
    "#probabilidade de ser relevante ou irrelevante\n",
    "\n",
    "prob_rel = total_relevante/total2\n",
    "prob_irr = total_irrelevante/total2\n",
    "checagem = prob_rel+prob_irr\n",
    "print(\"A probabilidade de ser relevante é: \", prob_rel) # palavras\n",
    "print(\"A probabilidade de ser irrelevante é: \", prob_irr) # palavras\n",
    "print(\"Checagem: \",checagem)\n",
    "\n"
   ]
  },
  {
   "cell_type": "code",
   "execution_count": null,
   "metadata": {},
   "outputs": [],
   "source": []
  },
  {
   "cell_type": "code",
   "execution_count": 73,
   "metadata": {},
   "outputs": [],
   "source": [
    "prob_tweet_rel = 1\n",
    "prob_tweet_irr = 1\n",
    "\n",
    "\n",
    "\n",
    "lista_rel = []\n",
    "lista_irr = []\n",
    "\n",
    "a = \"relevante\"\n",
    "b = \"irrelevante\"\n",
    "\n",
    "for tweet in data.Treinamento:\n",
    "    tweet = clean(tweet)\n",
    "    tweet = tweet.split()\n",
    "    \n",
    "    for i in range(len(tweet)):\n",
    "        if tweet[i] in rel_relevante:\n",
    "            prob_tweet_rel *= (abs_relevante[tweet[i]]+1)/(total_relevante+total2)\n",
    "        else:\n",
    "            prob_tweet_rel *= (0+1)/(total_relevante+total2)\n",
    "\n",
    "        \n",
    "        if tweet[i] in rel_irrelevante:\n",
    "            prob_tweet_irr *= (abs_irrelevante[tweet[i]]+1)/(total_irrelevante+total2)\n",
    "        else:\n",
    "            prob_tweet_irr *= (0+1)/(total_irrelevante+total2)\n",
    "            \n",
    "\n",
    "\n",
    "\n",
    "            if (prob_tweet_rel*prob_rel) > (prob_tweet_irr*prob_irr):\n",
    "\n",
    "                lista_rel.append(\"relevante\")"
   ]
  },
  {
   "cell_type": "code",
   "execution_count": 74,
   "metadata": {},
   "outputs": [
    {
     "name": "stdout",
     "output_type": "stream",
     "text": [
      "o numero total de tweets classificados é: 300\n",
      "o numero de tweets relevantes é:  27\n",
      "a probabilidade de itens relevantes é:  0.09\n",
      "a probabilidade de itens irrelevantes é:  0.91\n"
     ]
    }
   ],
   "source": [
    "print(\"o numero total de tweets classificados é:\", len(data.Treinamento))\n",
    "print(\"o numero de tweets relevantes é: \", len(lista_rel))\n",
    "print(\"a probabilidade de itens relevantes é: \", len(lista_rel)/len(data.Treinamento))\n",
    "print(\"a probabilidade de itens irrelevantes é: \", 1-(len(lista_rel)/len(data.Treinamento)))"
   ]
  },
  {
   "cell_type": "markdown",
   "metadata": {},
   "source": [
    "# Conclusão:"
   ]
  },
  {
   "cell_type": "code",
   "execution_count": null,
   "metadata": {},
   "outputs": [],
   "source": []
  },
  {
   "cell_type": "code",
   "execution_count": null,
   "metadata": {},
   "outputs": [],
   "source": []
  },
  {
   "cell_type": "code",
   "execution_count": null,
   "metadata": {},
   "outputs": [],
   "source": []
  },
  {
   "cell_type": "code",
   "execution_count": null,
   "metadata": {},
   "outputs": [],
   "source": []
  },
  {
   "cell_type": "code",
   "execution_count": null,
   "metadata": {},
   "outputs": [],
   "source": []
  },
  {
   "cell_type": "code",
   "execution_count": null,
   "metadata": {},
   "outputs": [],
   "source": []
  }
 ],
 "metadata": {
  "kernelspec": {
   "display_name": "Python 3",
   "language": "python",
   "name": "python3"
  },
  "language_info": {
   "codemirror_mode": {
    "name": "ipython",
    "version": 3
   },
   "file_extension": ".py",
   "mimetype": "text/x-python",
   "name": "python",
   "nbconvert_exporter": "python",
   "pygments_lexer": "ipython3",
   "version": "3.7.6"
  }
 },
 "nbformat": 4,
 "nbformat_minor": 4
}
