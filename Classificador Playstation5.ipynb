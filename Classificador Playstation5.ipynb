{
 "cells": [
  {
   "cell_type": "code",
   "execution_count": null,
   "metadata": {},
   "outputs": [],
   "source": []
  },
  {
   "cell_type": "code",
   "execution_count": 51,
   "metadata": {},
   "outputs": [],
   "source": [
    "import re\n",
    "import math\n",
    "import string\n",
    "import os.path\n",
    "import pandas as pd\n",
    "from IPython.display import display"
   ]
  },
  {
   "cell_type": "code",
   "execution_count": 40,
   "metadata": {},
   "outputs": [
    {
     "name": "stdout",
     "output_type": "stream",
     "text": [
      "Esperamos trabalhar no diretório\n",
      "/Users/ceodiniz/Ciencia dos dados/CDados-2020-2.2-master\n"
     ]
    }
   ],
   "source": [
    "print('Esperamos trabalhar no diretório')\n",
    "print(os.getcwd())"
   ]
  },
  {
   "cell_type": "code",
   "execution_count": 41,
   "metadata": {},
   "outputs": [
    {
     "data": {
      "text/html": [
       "<div>\n",
       "<style scoped>\n",
       "    .dataframe tbody tr th:only-of-type {\n",
       "        vertical-align: middle;\n",
       "    }\n",
       "\n",
       "    .dataframe tbody tr th {\n",
       "        vertical-align: top;\n",
       "    }\n",
       "\n",
       "    .dataframe thead th {\n",
       "        text-align: right;\n",
       "    }\n",
       "</style>\n",
       "<table border=\"1\" class=\"dataframe\">\n",
       "  <thead>\n",
       "    <tr style=\"text-align: right;\">\n",
       "      <th></th>\n",
       "      <th>Treinamento</th>\n",
       "      <th>Classificação</th>\n",
       "    </tr>\n",
       "  </thead>\n",
       "  <tbody>\n",
       "    <tr>\n",
       "      <th>0</th>\n",
       "      <td>playstation 5 custará mais de 55 mil reais – d...</td>\n",
       "      <td>0</td>\n",
       "    </tr>\n",
       "    <tr>\n",
       "      <th>1</th>\n",
       "      <td>preço do playstation 5 na europa,\\n399€ edição...</td>\n",
       "      <td>0</td>\n",
       "    </tr>\n",
       "    <tr>\n",
       "      <th>2</th>\n",
       "      <td>rt @tecnoblog: preço do playstation 5 deve ser...</td>\n",
       "      <td>0</td>\n",
       "    </tr>\n",
       "    <tr>\n",
       "      <th>3</th>\n",
       "      <td>sony marca novo evento para revelar detalhes d...</td>\n",
       "      <td>0</td>\n",
       "    </tr>\n",
       "    <tr>\n",
       "      <th>4</th>\n",
       "      <td>venha se manter informado com seu programa de ...</td>\n",
       "      <td>0</td>\n",
       "    </tr>\n",
       "    <tr>\n",
       "      <th>...</th>\n",
       "      <td>...</td>\n",
       "      <td>...</td>\n",
       "    </tr>\n",
       "    <tr>\n",
       "      <th>262</th>\n",
       "      <td>rt @crunchyroll_pt: 📰 sony enfim colocará as c...</td>\n",
       "      <td>0</td>\n",
       "    </tr>\n",
       "    <tr>\n",
       "      <th>263</th>\n",
       "      <td>rt @ps3brasil: propaganda do playstation 5 apa...</td>\n",
       "      <td>0</td>\n",
       "    </tr>\n",
       "    <tr>\n",
       "      <th>264</th>\n",
       "      <td>@detonandogueek playstation 5\\npor sua inovado...</td>\n",
       "      <td>1</td>\n",
       "    </tr>\n",
       "    <tr>\n",
       "      <th>265</th>\n",
       "      <td>rt @nintendo_space: notícias: playstation 5 (p...</td>\n",
       "      <td>0</td>\n",
       "    </tr>\n",
       "    <tr>\n",
       "      <th>266</th>\n",
       "      <td>com o lançamento do playstation 5 finalmente c...</td>\n",
       "      <td>1</td>\n",
       "    </tr>\n",
       "  </tbody>\n",
       "</table>\n",
       "<p>267 rows × 2 columns</p>\n",
       "</div>"
      ],
      "text/plain": [
       "                                           Treinamento  Classificação\n",
       "0    playstation 5 custará mais de 55 mil reais – d...              0\n",
       "1    preço do playstation 5 na europa,\\n399€ edição...              0\n",
       "2    rt @tecnoblog: preço do playstation 5 deve ser...              0\n",
       "3    sony marca novo evento para revelar detalhes d...              0\n",
       "4    venha se manter informado com seu programa de ...              0\n",
       "..                                                 ...            ...\n",
       "262  rt @crunchyroll_pt: 📰 sony enfim colocará as c...              0\n",
       "263  rt @ps3brasil: propaganda do playstation 5 apa...              0\n",
       "264  @detonandogueek playstation 5\\npor sua inovado...              1\n",
       "265  rt @nintendo_space: notícias: playstation 5 (p...              0\n",
       "266  com o lançamento do playstation 5 finalmente c...              1\n",
       "\n",
       "[267 rows x 2 columns]"
      ]
     },
     "execution_count": 41,
     "metadata": {},
     "output_type": "execute_result"
    }
   ],
   "source": [
    "# Carregando os dados do arquivo\n",
    "dados = pd.read_excel('playstation 5.xlsx')\n",
    "dados"
   ]
  },
  {
   "cell_type": "code",
   "execution_count": 42,
   "metadata": {},
   "outputs": [
    {
     "data": {
      "text/html": [
       "<div>\n",
       "<style scoped>\n",
       "    .dataframe tbody tr th:only-of-type {\n",
       "        vertical-align: middle;\n",
       "    }\n",
       "\n",
       "    .dataframe tbody tr th {\n",
       "        vertical-align: top;\n",
       "    }\n",
       "\n",
       "    .dataframe thead th {\n",
       "        text-align: right;\n",
       "    }\n",
       "</style>\n",
       "<table border=\"1\" class=\"dataframe\">\n",
       "  <thead>\n",
       "    <tr style=\"text-align: right;\">\n",
       "      <th></th>\n",
       "      <th>Treinamento</th>\n",
       "      <th>Classificação</th>\n",
       "    </tr>\n",
       "  </thead>\n",
       "  <tbody>\n",
       "    <tr>\n",
       "      <th>0</th>\n",
       "      <td>playstation 5 custará mais de 55 mil reais – d...</td>\n",
       "      <td>0</td>\n",
       "    </tr>\n",
       "    <tr>\n",
       "      <th>136</th>\n",
       "      <td>confira o novo trailer do playstation 5 https:...</td>\n",
       "      <td>0</td>\n",
       "    </tr>\n",
       "    <tr>\n",
       "      <th>240</th>\n",
       "      <td>‘borderlands 3’ terá upgrade gratuito para pla...</td>\n",
       "      <td>0</td>\n",
       "    </tr>\n",
       "    <tr>\n",
       "      <th>138</th>\n",
       "      <td>@playstation_br coe sony vai rolar god 5 né</td>\n",
       "      <td>0</td>\n",
       "    </tr>\n",
       "    <tr>\n",
       "      <th>139</th>\n",
       "      <td>estamos a sonhar, ou a sony acabou de juntar p...</td>\n",
       "      <td>0</td>\n",
       "    </tr>\n",
       "    <tr>\n",
       "      <th>...</th>\n",
       "      <td>...</td>\n",
       "      <td>...</td>\n",
       "    </tr>\n",
       "    <tr>\n",
       "      <th>140</th>\n",
       "      <td>rt @nananocontrole: puta merda, se o preço do ...</td>\n",
       "      <td>1</td>\n",
       "    </tr>\n",
       "    <tr>\n",
       "      <th>137</th>\n",
       "      <td>playstation 5 ganha incrível comercial em live...</td>\n",
       "      <td>1</td>\n",
       "    </tr>\n",
       "    <tr>\n",
       "      <th>122</th>\n",
       "      <td>cuidado com falsos anúncios. dizer que o plays...</td>\n",
       "      <td>1</td>\n",
       "    </tr>\n",
       "    <tr>\n",
       "      <th>166</th>\n",
       "      <td>playstation 5 precisa sair $399 o all-digital ...</td>\n",
       "      <td>1</td>\n",
       "    </tr>\n",
       "    <tr>\n",
       "      <th>266</th>\n",
       "      <td>com o lançamento do playstation 5 finalmente c...</td>\n",
       "      <td>1</td>\n",
       "    </tr>\n",
       "  </tbody>\n",
       "</table>\n",
       "<p>267 rows × 2 columns</p>\n",
       "</div>"
      ],
      "text/plain": [
       "                                           Treinamento  Classificação\n",
       "0    playstation 5 custará mais de 55 mil reais – d...              0\n",
       "136  confira o novo trailer do playstation 5 https:...              0\n",
       "240  ‘borderlands 3’ terá upgrade gratuito para pla...              0\n",
       "138        @playstation_br coe sony vai rolar god 5 né              0\n",
       "139  estamos a sonhar, ou a sony acabou de juntar p...              0\n",
       "..                                                 ...            ...\n",
       "140  rt @nananocontrole: puta merda, se o preço do ...              1\n",
       "137  playstation 5 ganha incrível comercial em live...              1\n",
       "122  cuidado com falsos anúncios. dizer que o plays...              1\n",
       "166  playstation 5 precisa sair $399 o all-digital ...              1\n",
       "266  com o lançamento do playstation 5 finalmente c...              1\n",
       "\n",
       "[267 rows x 2 columns]"
      ]
     },
     "execution_count": 42,
     "metadata": {},
     "output_type": "execute_result"
    }
   ],
   "source": [
    "dados.sort_values(by=\"Classificação\")"
   ]
  },
  {
   "cell_type": "code",
   "execution_count": 43,
   "metadata": {},
   "outputs": [
    {
     "data": {
      "text/plain": [
       "0    0.775281\n",
       "1    0.224719\n",
       "Name: Classificação, dtype: float64"
      ]
     },
     "execution_count": 43,
     "metadata": {},
     "output_type": "execute_result"
    }
   ],
   "source": [
    "a = dados[\"Classificação\"].value_counts(True)\n",
    "a"
   ]
  },
  {
   "cell_type": "code",
   "execution_count": 44,
   "metadata": {},
   "outputs": [],
   "source": [
    "dados[\"Classificação\"] = dados[\"Classificação\"].astype('category')\n",
    "dados[\"Classificação\"].cat.categories = ['relevante', 'irrelevante']\n"
   ]
  },
  {
   "cell_type": "code",
   "execution_count": 45,
   "metadata": {},
   "outputs": [
    {
     "data": {
      "text/plain": [
       "207"
      ]
     },
     "execution_count": 45,
     "metadata": {},
     "output_type": "execute_result"
    }
   ],
   "source": [
    "relevante = dados[\"Classificação\"] == 'relevante'\n",
    "dados1 = dados.loc[relevante, :]\n",
    "dados1.Classificação.value_counts()[0]\n"
   ]
  },
  {
   "cell_type": "code",
   "execution_count": 46,
   "metadata": {},
   "outputs": [
    {
     "data": {
      "text/plain": [
       "60"
      ]
     },
     "execution_count": 46,
     "metadata": {},
     "output_type": "execute_result"
    }
   ],
   "source": [
    "irrelevante = dados[\"Classificação\"] == 'irrelevante'\n",
    "dados2 = dados.loc[irrelevante, :]\n",
    "dados2.Classificação.value_counts()[1]"
   ]
  },
  {
   "cell_type": "code",
   "execution_count": 47,
   "metadata": {},
   "outputs": [
    {
     "data": {
      "text/html": [
       "<div>\n",
       "<style scoped>\n",
       "    .dataframe tbody tr th:only-of-type {\n",
       "        vertical-align: middle;\n",
       "    }\n",
       "\n",
       "    .dataframe tbody tr th {\n",
       "        vertical-align: top;\n",
       "    }\n",
       "\n",
       "    .dataframe thead th {\n",
       "        text-align: right;\n",
       "    }\n",
       "</style>\n",
       "<table border=\"1\" class=\"dataframe\">\n",
       "  <thead>\n",
       "    <tr style=\"text-align: right;\">\n",
       "      <th></th>\n",
       "      <th>Treinamento</th>\n",
       "      <th>Classificação</th>\n",
       "    </tr>\n",
       "  </thead>\n",
       "  <tbody>\n",
       "    <tr>\n",
       "      <th>0</th>\n",
       "      <td>playstation 5 custará mais de 55 mil reais – d...</td>\n",
       "      <td>relevante</td>\n",
       "    </tr>\n",
       "    <tr>\n",
       "      <th>1</th>\n",
       "      <td>preço do playstation 5 na europa,\\n399€ edição...</td>\n",
       "      <td>relevante</td>\n",
       "    </tr>\n",
       "    <tr>\n",
       "      <th>2</th>\n",
       "      <td>rt @tecnoblog: preço do playstation 5 deve ser...</td>\n",
       "      <td>relevante</td>\n",
       "    </tr>\n",
       "    <tr>\n",
       "      <th>3</th>\n",
       "      <td>sony marca novo evento para revelar detalhes d...</td>\n",
       "      <td>relevante</td>\n",
       "    </tr>\n",
       "    <tr>\n",
       "      <th>4</th>\n",
       "      <td>venha se manter informado com seu programa de ...</td>\n",
       "      <td>relevante</td>\n",
       "    </tr>\n",
       "    <tr>\n",
       "      <th>...</th>\n",
       "      <td>...</td>\n",
       "      <td>...</td>\n",
       "    </tr>\n",
       "    <tr>\n",
       "      <th>262</th>\n",
       "      <td>rt @crunchyroll_pt: 📰 sony enfim colocará as c...</td>\n",
       "      <td>relevante</td>\n",
       "    </tr>\n",
       "    <tr>\n",
       "      <th>263</th>\n",
       "      <td>rt @ps3brasil: propaganda do playstation 5 apa...</td>\n",
       "      <td>relevante</td>\n",
       "    </tr>\n",
       "    <tr>\n",
       "      <th>264</th>\n",
       "      <td>@detonandogueek playstation 5\\npor sua inovado...</td>\n",
       "      <td>irrelevante</td>\n",
       "    </tr>\n",
       "    <tr>\n",
       "      <th>265</th>\n",
       "      <td>rt @nintendo_space: notícias: playstation 5 (p...</td>\n",
       "      <td>relevante</td>\n",
       "    </tr>\n",
       "    <tr>\n",
       "      <th>266</th>\n",
       "      <td>com o lançamento do playstation 5 finalmente c...</td>\n",
       "      <td>irrelevante</td>\n",
       "    </tr>\n",
       "  </tbody>\n",
       "</table>\n",
       "<p>267 rows × 2 columns</p>\n",
       "</div>"
      ],
      "text/plain": [
       "                                           Treinamento Classificação\n",
       "0    playstation 5 custará mais de 55 mil reais – d...     relevante\n",
       "1    preço do playstation 5 na europa,\\n399€ edição...     relevante\n",
       "2    rt @tecnoblog: preço do playstation 5 deve ser...     relevante\n",
       "3    sony marca novo evento para revelar detalhes d...     relevante\n",
       "4    venha se manter informado com seu programa de ...     relevante\n",
       "..                                                 ...           ...\n",
       "262  rt @crunchyroll_pt: 📰 sony enfim colocará as c...     relevante\n",
       "263  rt @ps3brasil: propaganda do playstation 5 apa...     relevante\n",
       "264  @detonandogueek playstation 5\\npor sua inovado...   irrelevante\n",
       "265  rt @nintendo_space: notícias: playstation 5 (p...     relevante\n",
       "266  com o lançamento do playstation 5 finalmente c...   irrelevante\n",
       "\n",
       "[267 rows x 2 columns]"
      ]
     },
     "execution_count": 47,
     "metadata": {},
     "output_type": "execute_result"
    }
   ],
   "source": [
    "dados"
   ]
  },
  {
   "cell_type": "code",
   "execution_count": 52,
   "metadata": {},
   "outputs": [],
   "source": [
    "#teste_relevante = relevante['treinamento'].str.cat()\n",
    "#texto_relevante = re.sub(\"[\" + string.punctuation + \"]\", \"\", teste_relevante.lower())"
   ]
  },
  {
   "cell_type": "code",
   "execution_count": 53,
   "metadata": {},
   "outputs": [],
   "source": [
    "filtro_dados = dados.Treinamento.str.cat()\n",
    "filtro_dados = re.sub(\"[\" + string.punctuation + \"]\", \"\", filtro_dados.lower())"
   ]
  },
  {
   "cell_type": "code",
   "execution_count": 56,
   "metadata": {},
   "outputs": [
    {
     "data": {
      "text/plain": [
       "'playstation 5 custará mais de 55 mil reais – de ouro 24k httpstcog1juo3kedz\\n\\nps5 \\ngamersegamespreço do playstation 5 na europa\\n399€ edição digital\\n499€ com leitorrt tecnoblog preço do playstation 5 deve ser revelado pela sony na quarta 16 httpstcooxgzjlqop1sony marca novo evento para revelar detalhes da playstation 5 httpstcohpxbhd2rd1 httpstcozhvnskspajvenha se manter informado com seu programa de notícias nerd diário na radioblast monogeek news de segunda à sexta sempre as 1000 da manhã \\n\\nhoje vamos falar de one piece o reboot de um maluco no pedaço detalhes de playstation 5 e mais\\n\\nacesse httpstcogol6iannsr httpstcowi8tvnset8preço do playstation 5 deve ser revelado pela sony na quarta 16 httpstcoo4naznl5hxnovo comercial do playstation 5 the edge\\n\\na sony interactive entertainment lançou seu último anúncio para o playstation 5 na segundafeira o segundo em sua campanha de marketing global que antecedeu o lançamento do novo console httpstcoyazmlrnme2pra quem é fã de persona eu to dando todos os link das series pra abaixa tirando o 5\\nhttpstco04evjar0z5\\n\\nhttpstcod9oxllbwr0\\n\\nhttpstcobwcc8nnqcw\\n\\nhttpstcocgbrbkspym\\nlembrando q o 3 e 4 precisa do emulado de ps2maiconkusterk tentaria ser amigo dos meus pais pra poder saber os segredos deles e chantagear eles no futuro pedindo um playstation 5 pra ficar caladobom dia a cada dia mais próximo da felicidade evento do playstation 5 na quartalordpsmg playstation 5 digital 399449\\nplaystation 5 449499\\n\\neu acho que a sony não seria louca em colocar o ps5 digital por 349 pois ele tem specs muito superiores ao xbox series s que custa somente 299\\n\\nentão acredito que a faixa dos 2 consoles será de 399499rt olhardigital playstation5 ganha novo comercial às vésperas de evento da sony\\n\\nhttpstcooeuk5txfnadetonator17 94jeduardo meuplaystation playstationbr brasileirao leia essa matéria e veja o cálculo do provável preço httpstcoljl4wjq54o🚨🚨 novidades playstation 5\\n\\njuntate ao moraisgaming e ao tjipereira para ficares a conhecer as novidades playstation 5 \\n\\na magia acontece quartafeira dia 16 de setembro às 21h na twitch do worten game ring httpstcoj5ks6s4uxcé já esta 4ª feira que vamos ter mais detalhes sobre a playstation 5\\nserá que é desta que vamos saber o preço certo desta montra final 😂\\nnotícia ➡ httpstcoht1nzcfayn\\nsquaredpotato playstation playstation5 httpstcofdaw5oynwkfelipeheetz detonator17 meuplaystation playstationbr brasileirao entre 06 e 10 totalmente genérico assumindo a tributação vigente vindo a versão com disco a u 50000 o preço com conversão  tributos da r 540000 arredondado se houver uma grande margem de lucro de varejista acredito em r 650000 falo com base nas alíquotasrt playstationbr a demonstração do playstation 5 será transmitida ao vivo nesta quartafeira às 17h horário de brasília httpstco…rt showmetechbru a sony fará nesta quartafeira o playstation 5 showcase evento que trará mais informações sobre o ps5 e jogos \\n\\ndá pra…resident evil 6\\ne agora bronze\\ncomplete o capítulo 5 da campanha de ada ps4share httpstcoya1so7m9nn httpstcoheezeknmr4yasminxlima me dá um playstation 5🚨🚨🚨🚨🚨🚨\\n\\npreço do playstation 5\\n\\nps5 c leitor €49990\\nps5 digital €39990\\n\\n• ótimos preços e totalmente dentro do esperado httpstcokg4kexqkw9rt nerdsdagalaxiaa playstation 5 terá um evento virtual nesta quarta  httpstcoqkjqvw8c8j httpstcowsqkpemybcamysongx todos esses e pra min ainda tem mt mais😍😍😍 vídeo game  ora compra só tem um  é playstation 5 sem nenhum sombra de dúvidas httpstcotumzpytyivborderlands 3 chegará ao playstation 5 com upgrade gratuito httpstcoazwffychqq ps4 playstation sony meups4sony muda preço do ps5 com disco para 499 e digital por 399 rumor\\n\\nhá um relatório circulando na internet que afirma que a sony está repensando o preço do playstation 5 já que agora conhece o valor do xbox series s que acabou vazando antes do tempo … httpstcox3ax8pzpw3sinceroponei evertonsr16 evandro1989 meuplaystation playstationbr brasileirao gráfico do gears não chega nem perto do the last of us 2  os personagens parecem batatas todos deformados e lisos gears 5 é bonito na primeira fase quando tu desce na cachoeira depois vira gears 2 remaster não é atoa que meu pc roda 4k 60fps coisa que só faz em game indie httpstcowslvvmi4curt popgearbr 🔵 enfim terá um evento para demonstração do playstation 5 no dia 16 de setembro às 17h horário de brasília quais são suas…borderlands 3 terá atualização gratuita para playstation 5 e xbox series x httpstco5o5lus6hggacabei de confirmar com uma distribuidora playstation 5 day one no brasil \\n\\nainda estão fechando os custos mas assim que tiverem um preço divulgarei aquirt owenhn2 manas quando saiu iphone 11 andavam a se entregar\\ntaisaiu playstation 5 e mesmo assim não andamos a nos prostituirnotícia i novo comercial do playstation 5 – “the edge”\\n httpstcogrszeqrkrg playstation5showcasesony acaba de lançar sua nova peça publicitária intitulada de the edge  play has no limits  jogar não tem limites  playstation 5 o comercial faz uma alusão a ultrapassagem da barreira do limite nos jogos onde no ps5 jogar não tem limites\\n\\nficou incrível 😍😍 httpstcowr9yksml4vna próxima 4ªfeira dia 16 de setembro de 2020 poderás assistir ao evento da playstation 5 pelas 21h00 portugal continental e 17h00 brasília\\n\\nplaystation playstation5 playstationnation playstationnews playstationshowcase httpstcofyymp2jpkkimagem revela suposto conteúdo da caixa das versões do playstation 5 teria até um jogo préinstalado chamado astros playroom que serviria para explorar as possibilidades e diferenciais do novo console playstation httpstcop1nlkvwzyba sony fará nesta quartafeira o playstation 5 showcase evento que trará mais informações sobre o ps5 e jogos \\n\\ndá pra acompanhar tudo à partir das 1700 pelo link\\xa0httpstco7uw8aisuja\\n\\na cobertura completa você vê no httpstcofaim4ffofw \\n\\nps5 playstation5showcasert wortengamering 🚨🚨 novidades playstation 5\\n\\njuntate ao moraisgaming e ao tjipereira para ficares a conhecer as novidades playstati…achei acertada a estratégia da sony em esperar a microsoft e a nvidia mostrar tudo o que tinha antes de exibir mais detalhes do playstation 5 \\n\\nquerendo ou não quem fica nos holofotes é quem apresenta por último geralmenteplaystation 5 ps5 pode ter o preço de lançamento revelado esta semana httpstcoestcjvfpzu httpstcorb7rpnhszfm4ttheus7 detonator17 felipeheetz meuplaystation playstationbr brasileirao filho com todos os tributos e arredondando pra mais da r 540000o que você precisa saber sobre p novo playstation 5 um tem leitor e outro não \\n\\nsimples assim httpstcohlhzkntdajmahoujojo playstation 5  é um só ao invés de 5rt brspidey dá uma olhada na tabela abaixo para saber como o seu jogo preferido vai rodar no playstation 5\\ndetalhes como resolução fps…new post novo evento do playstation 5  anúncios de jogos  será que vem preço e data has been published on gameplay de canais do youtube  httpstcovecyk3mbfz httpstcoygx3qg6ev2cinco diferenças entre o xbox series x e o playstation 5 httpstcoqyypakg7imodeia carregar o comando a playstation 5 tem a solução httpstco6gvlq6c97t httpstco3kjh0ovblvgtestadaolink preço do playstation 5 deve ser anunciado nesta quarta httpstcobecj6x1exs httpstcoefkcflxgm4rt brdadepressao admita você já foi expulso por esse árbitro no playstation httpstcotcm7gi6khort triplonerdofc atenção\\n\\na sony fará um evento para divulgação do playstation 5 no dia 16 de setembro a empresa promete que vai mostra…collor collor já pensou em debater sobre os impostos dos games no brasil a atenção das pessoas vai estar voltada pra esse assunto quando for anunciado o preço do playstation 5o novo playstation 5 está previsto para ser lançado em dezembro mas você sabia que já está rolando uma promoção para ganhar um httpstcojdy5lzlxjurt alertapromocao o novo playstation 5 está previsto para ser lançado em dezembro mas você sabia que já está rolando uma promoção para…eu curto jogar um pouco de persona 5 eu curto jogar persona 5 com meus amigos eu jogo persona 5 quando eu estou de folga eu sou um jogador de persona 5 quando as minas perguntam o que eu jogo no playstation 4  eu falo para elas gatinha eu jogo persona 5rt playstationpt bemvindo a um novo mundo de imersão total com a playstation®5 descobre o feedback háptico gatilhos adaptativos e áudi…rt onavarromagno falasemgritar um playstation 2 com dois controles\\n\\numa cômoda 5 gavetas\\n\\nfone de ouvido sony fg600 só o lado esquerdo…será que o fraco playstation 5 vai limitar a geração \\n\\nbem que os jornalistas poderiam abordar essa questãonovo evento do playstation 5 foi confirmado para o dia 16 de setembro  httpstcoovfzsaec8qrt comboinfinito playstation 5 comercial quer despertar aquele sentimento de comprar um console novo gt httpstcotqaszktbig httpst…a sony anunciou um evento pra falar do playstation 5 na quartafeira as 1700 eu estou ansioso desde o momento que li o tweet tomara que falem de uma vez por todas do preço e data de lançamentopreço do playstation 5 deve ser revelado pela sony na quarta 16 httpstcobj0evbi1ag httpstcocsr5ojbj3pkkkkk vai curitias vai preixtexu \\nfuckoffmatt radioativoth mitodante yunabr21 antonioaca hbeira hscpedro italotravassoss midiasonysta lordpsmg robsammore rodrigocoelhoc kyokushinjunior \\n\\nhttpstcotudbog12pmdetonandogueek por que tive o playstation 4 pro e vou adquirir o 5 pra continuar com minha biblioteca de jogos além de gostar muito dos exclusivosjá marcaram na agenda \\n\\nplaystation5 playstationpt playstation5showcase \\n\\nhttpstcouieqisedtxnovo evento dedicado à playstation 5 já esta semana httpstco3bcody3zge techaominutopreço do playstation 5 deve ser revelado pela sony na quarta 16  jogos  tecnoblog httpstcoubqv07prtvrt ig em um evento online nesta quartafeira 16 a sony promete mostrar jogos e surpresas do novo console\\nig\\n\\nhttpstcoifdfrncgbkxboxbr eu amo o design que a xbox coloca nos seus apps e etc o design de consoles só foi bom até o one x pq esses aí tão bem fraquinhos  mas mesmo assim mais bonito que o playstation 5for honor\\nlenda heroica prata\\nconquiste reputação 5 com qualquer herói ps4share httpstcognul7liwo8 httpstcogereuwvsoypreço do playstation 5 deve ser revelado pela sony na quarta 16  tecnoblog\\n\\nhttpstcokay5bh3hya i httpstcoeycyqllpft\\nplaystation playstationbrasil playstation4 ps4 ps4brasil notíciasplaystation \\nhttpstcottnuganzi2vanuci2112 muita mordomia agora hotel 5 estrelas comendo do bom e do melhor rachão pra tirar a inhac futmesa e playstation a noite sair praqueconfira minha transmissão do meu playstation 4 ps4live kingdom hearts  hd 1525 remix   live at httpstcohccihrw8qrpropaganda do playstation 5 aparece em partida do campeonato brasileiro  psx brasil httpstcoqtdbxu6ixzfakefox11 pode escolher bb hahahahahahaha eu quero saber cadê os do playstation 5  só vi joguinho de criancinha e remaster até agora kkkkkkkk é com isso  httpstcot1m6vavulpdrakesincero1 mano só pode ser brincadeira esse xbox ser mais potente que o playstation 5 mds mano concerteza foram pagos pra falar merdaconfira minha transmissão do meu playstation 4 ps4live persona 5 royal  live at httpstcom7ulo3gjbdplaystation 5 no brasileirão👀 httpstcoscsasebbp0playstation 5 terá um evento virtual nesta quarta  httpstcoqkjqvw8c8j httpstcowsqkpemybctodos detalhes do playstation 5 serão revelados nesta quartafeira pela sony  httpstco9tgipp3hep httpstcoip9b8oo1nnplaystation 5 terá mais detalhes revelados veja como assistir ao evento → httpstcod4drsdvx2r httpstcoucc8harqj6midiasonysta capitaorumor mídia no memorando de hoje cedo ficou estabelecido que\\npara a compra do console playstation 5 será aceito pagamento em dinheiro o cliente irá colocar as notas no balcão uma a uma e o vendedor irá sinalizar com a cabeça sem emitir som quando chegar no valor correto\\n\\ntoprt gamesweek será desta que vamos ficar a saber o preço da consola da sony \\n\\nsabe mais em futurebehind \\n\\nlisboagamesweek lisboagamesw…playstation 5 terá mais detalhes revelados veja como assistir ao\\xa0evento httpstcoozu74hqnf4rt meuplaystation playstationbr no brasileirao playstation 5 vem forte 💪 e digo mais 👀 httpstcopms3vphtpyum vídeo com a interface nova do playstation 5 está  circulando nas redes sociais\\n\\no vídeo é rico em detalhes mas ainda sim não se sabe se é real ou fake\\n\\nserá que quartafeira dia 16 de setembro saberemos\\n\\nps5 playstation5 httpstcowllmmkjnjart chief117combr será que o fraco playstation 5 vai limitar a geração \\n\\nbem que os jornalistas poderiam abordar essa questãook o playstation 5 tá parecendo um modem mas olha essa porra kkkkkkk parece uma caixinha de som da jbl httpstcothjelv8shfspiderman para a playstation 5 já deixa água na boca httpstco04qmknek4d httpstcopbppxcaef9sony lança tv 8k com selo ideal para playstation 5 por r 315 mil no brasil httpstcowm42kvsz3aborderlands 3 chegará ao playstation 5 com upgrade gratuito httpstconn1ju5qnpu httpstcoa6yitevribborderlands 3 será lançado para playstation 5 e xbox series x httpstcow2xgc5pich httpstco0mewtc4tl0playstation 5 ganha novo comercial de tv  pizza fria httpstcon2oi9pqrx7confira novo comercial em liveaction do playstation5\\n\\nhttpstcow7uayfeow7pes18paulo kkkkkkkk ps5 não tem vrs\\n\\nfonte httpstcouioec2avbd httpstcoqdmxtncjp6sony é mercenária por cobrar usuários do playstation 5 por dicas que são possíveis de achar no youtubemicalibruno do jeito que as coisas andam não dúvido que o preço do playstation 5 sairá no brasil primeiro que o do xbox series xs xboxbr ajuda aírt techtudo playstation 5 ps5 pode ter o preço de lançamento revelado esta semana httpstcoestcjvfpzu httpstcorb7rpnhszfnovo evento do playstation 5 foi confirmado para o dia 16 de\\xa0setembro httpstcobvhuo3v5dejoomezzomo xboxbr fala ai os jogos que vão sair pra playstation 5 ainda esse ano94jeduardo meuplaystation playstationbr brasileirao vai sair aqui entre 6 e 10 fácil httpstcoljl4wjq54ort recordportugal record gaming  playstation 5 sony anuncia evento sobre a nova consola httpstcozznnma3ssurt allanjeffersonx xbox series s  29999\\nxbox series x  49990\\n\\nplaystation 5  49990\\nplaystation 5 sem leitor  39990\\n\\nacredito que…detonandogueek playstation 5 por causa dos exclusivosconfira minha transmissão do meu playstation 4 ps4live far cry® 5  live at httpstcocg5mu9xepyplaystation 5 terá mais novidades\\xa0reveladas httpstcodsqmceie33se os consoles da nova geração fossem lançados hoje qual você compraria e porque ou comprariam a versão mais potente da atual geração xbox one x e ps4 pro\\n\\nxbox series s\\nxbox series x\\nplaystation 5\\nplaystation 5 all digital httpstcogubvbi7lr9the edge  play has no limits  playstation lança um novo comercial de divulgação do playstation 5  httpstcoy4u9fxtkz9 httpstcooibhp57chlmeuplaystation playstationbr brasileirao playstation 5 vem forte é e o preço tambémfinalidade conclui um inicio do meu mapa 5\\ne eu quero uma opinião de vocês sobre isto\\n\\nhttpstcokkd9lquzkj httpstcowlooy2imjkborderlands 3 será lançado para playstation 5 e xbox series x httpstco7ykunf6tfpdeisgao dandonato96 rodrigocoelhoc tb não vejo como implicância está mais para ranço mesmo não precisa ser igual não deve ser igual cada um tem seu espaço e isso é importante pq se fosse igual com toda certeza diriam nossa esse xbox 5 é o playstation genéricofarmar dinheiro pra comprar o playstation 5 foda seem um evento online nesta quartafeira 16 a sony promete mostrar jogos e surpresas do novo console\\nig\\n\\nhttpstcoifdfrncgbkos caras estão indo atrás do one piece playstation 5 httpstco3phdfzuqr5 pode não significar porra nenhuma mas o naoki yoshida yoship apareceu no evento de junho de revelação do playstation 5\\n\\n🔥🔥🔥🔥🔥🔥🔥 httpstcokpwmkyfmxvtudo indica que o playstation 5 será lançado no brasil junto com o lançamento internacional isso é ótimo para agilizar as coisas quanto antes melhor teremos o preço e o produto já em circulação no entanto não vejo como sendo apelativo para compra do consumidor no lançamentoplaystation 5\\xa0 console sem drive custa 399 euros com 499 euros de acordo com o distribuidor\\xa0espanhol httpstcozcmpdsj5lxdemostração do playstation 5 será no dia 16 de setembro\\nhttpstcoresyzw8to4playstation 5 patrocina o campeonato brasileiro propagandas do console aparecem nas placas de grêmio x fortalezasegundo o silvaruancarlo após checar com uma distribuidora brasileira o playstation 5 estará no brasil no day one ou seja o console será lançado simultaneamente com o restante do mundo\\n\\nagora resta a confirmação de preço e datas pela sony httpstcoq3xqmwfhk6e a minha mãe que tava brincando tentando convencer meu priminho de 5 anos que ia adotar ele e o argumento foi que eu tinha um playstation pra ele jogar comigo aí ele simplesmente vira e pergunta interessado “mas é o 3 ou o 4” nessa hora eu perdi tudo httpstcopgjhvyojxuvejo movimentos agressivos da sony para promover o playstation 5 aqui no brasil\\ntá chegando com tudo se liga pessoal httpstcowfoqprcwztfbiohen43813356 deve ser menos de 59 mas taí um estudo legal\\n\\nhttpstcovc9k25xsd1xboxbr quero saber do preço do console falta menos de 2 meses para o lançamento se a sony anunciar primeiro e for agradável vou de playstation 5 antes que o dólar suba mais então se apressem pois não sou o únicocuidado com falsos anúncios dizer que o playstation transfere 55gbs não quer dizer que seu ssd transfira a essa taxa isso se for verdade de alguma forma\\n\\nno aguardo do ain seu caixista🤬  httpstcolkcgfcolplconfira minha transmissão do meu playstation 4 ps4live tony hawks® pro skater™ 5  live at httpstcoygphaqxkm7rt silvaruancarlo acabei de confirmar com uma distribuidora playstation 5 day one no brasil \\n\\nainda estão fechando os custos mas ass…rt ps3brasil el corte inglés maior rede de lojas na europa lista o preço do playstation 5 em seu sistema  httpstcofrfbvs7xz5 http…o nintendo switch 2 será muito poderoso tem gente dizendo que pode chegar a nível de playstation 5 por causa da aquisição da arm pela nvidiaexclusivo sony homologa controle de playstation 5 com botão disney no brasil httpstcogg50cxzkuldevem finalmente revelar data de lançamento e preço \\n\\nsony holding playstation 5 showcase on sept 16 httpstcoljzhthgfczcom transmissão ao vivo apresentação de novidades para playstation 5 acontece nesta semana\\n\\nhttpstcomtqar4f5nagodfall recebe um novo trailer dedicado à jogabilidade\\n\\nalém da playstation 5 godfall irá também chegar ao pc via epic games store numa data ainda por confirmar no final deste ano httpstcolwjsdj06vsse alguns torcedores brilhantes do grêmio fossem dirigentes hoje desembarcavam em porto alegre uns 25 jogadores maravilhosos para a camisa 5 todos muito bem garimpados no playstationfaze 5\\n\\nhttpstcotcipiz6e8y httpstcorwzkjaqdaicarloseduardocd comparando de forma justa\\n\\ncom smt 34ghz vs 35ghz vs 36ghz\\n\\nsem smt 35ghz vs 36ghz vs 38ghz\\n\\no playstation 5 está exatamente no meio dos consoles series s e x então já que 02ghz 200mhz não é algo relevante então 01ghz menos ainda 22gamingplaystation 5\\n\\na sony finalmente nos dará uma demonstração do ps5 em um evento virtual que acontecerá na próxima quarta a dona da playstation promete nos atualizar sobre os jogos de ps5\\n\\nhttpstco8k6vuigfck\\n\\nsiga progbrasil para mais notícias como essaconfira minha transmissão do meu playstation 4 ps4live far cry® 5  live at httpstconhqjburuzsconfira o novo trailer do playstation\\xa05 httpstcon1bohoieka httpstcojmudvspmyzplaystation 5 ganha incrível comercial em live\\xa0action httpstcocreadpbhzhplaystationbr coe sony vai rolar god 5 néestamos a sonhar ou a sony acabou de juntar ps5 com the who httpstcopfnhrb6jy9rt nananocontrole puta merda se o preço do playstation 5 sair antes no brasil do que o do xbox vai tá faltando dedicação aí em xboxbr…no mf a sony irá transmitir um showcase de jogos da playstation 5 httpstcofj6uayke4me pensar que ano que vem vou poder comprar o playstation 5 sendo que nunca pude ter o 2 quando era o hypexboxbr dá vontade da sony anunciar o preço antes de vocês e a galera comprar o playstation 5 só pelo serviço porco que estão prestandonotícias playstation 5 ps5 pode ter o preço de lançamento revelado esta semana\\n\\nnintendospace playstation ps5reveal gamer gamers playstation5showcase ps5 ps4 game games gaming videogames \\n\\nhttpstcorzgwgbya0hplaystation5 ganha novo comercial às vésperas de evento da sony\\n\\nhttpstcooeuk5txfnart playstationpt a próxima apresentação da playstation 5 será transmitida em direto esta quartafeira às 21h00 hora de portugal contine…thesniperesp120 o console 65 menos potente nem sei se é que vai rodar a nova geração e ainda tem um processador melhor que o ps5 🤣 sony wins httpstcohfoilh1wwzrt rapmais todos detalhes do playstation 5 serão revelados nesta quartafeira pela sony  httpstco9tgipp3hep httpstcoip9b8oo1nnart1a3t o marketing do xbox é a coisa mais confusa que eu já vi na vida quero ver as mães no supermercado vendo que tem xbox one s xbox one x xbox series s xbox series x e do outro lado um playstation 5playstation 5  grande loja portuguesa vaza preço do ps5  viciados httpstcoruui3qbsffplaystationbr poderiam anunciar um ps05 mirando apenas nos 1080p sem leitor por 249 obamaspreço do playstation 5 deve ser revelado pela sony na quarta 16 httpstcooxgzjlqop1gamingplaystation 5\\n\\na sony finalmente nos dará uma demonstração do ps5 em um evento virtual que acontecerá na próxima quarta a dona da playstation promete nos atualizar sobre os jogos de ps5\\n\\nhttpstcoqzpmlm0xfypropaganda do playstation 5 aparece em partida do campeonato brasileiro  httpstcolitd0n6spk httpstcol8l6vpvbhonovo evento do playstation 5 foi confirmado para o dia 16 de setembro  httpstcoepcz3hc6rd httpstcoxext4gkji5vamos ter novidades da playstation 👀 \\n\\npara além do preço da ps5 será que vão apresentar mais alguns jogos surpresa\\n\\nsabe mais em httpstcoiuid3gdevwpreço do playstation 5 deve ser revelado pela sony na quarta 16  jogos  tecnoblog httpstco5lceexq4f9felipeheetz detonator17 94jeduardo meuplaystation playstationbr brasileirao essa matéria do canaltech deixou de levar em consideração a redução do imposto em 2019 de 10 fora subsídios que empresas conseguem com o governo e descontos fiscais acredito que a versão de disco não passa de 5 mil reais ainda mais numa situação covid e pós coviddetonandogueek playstation 5  não abro mão dos jogos da sony por outros tão fácil  foi o videi game que me fez sentir as melhores experiências com jogos da minha vida  quero experimentar o dual sense  que promete ser o melhor controle de todos e também o  tempest 3d  fora os jogos únicos 😍nova informação revela o que vem no interior da caixa da playstation 5 httpstcop11mgp4pgbrt gamerclub sony divulga mais comercial do playstation 5 um liveaction chamado the edge  play has no limits\\n\\na apresentação com no…playstation 5  o que esperar do evento nesta quarta 16 httpstcoqqklmysd9wescrevi esse textinho e mostrei que dá pra montar um pc gamer com as especificações de um playstation 5 mas olhanão é barato ein httpstcozrjsdk47vcse quarta feira a sony anuncia que o gt7 é jogo de lançamento da playstation 5 eu reservo a consola na horart estadao gtestadaolink preço do playstation 5 deve ser anunciado nesta quarta httpstcobecj6x1exs httpstcoefkcflxgm4playstation 5 precisa sair 399 o alldigital e 499 o normal no máximo mais que isso não dá nãoeu não dúvido nada que red dead redemption 2 venha para o xbox series x e o playstation 5 gta 5 é um jogo de 2013 e foi confirmado para a nova geração é difícil que red dead redemption 2 também não venharecord gaming  playstation 5 sony anuncia evento sobre a nova consola httpstcozznnma3ssuborderlands 3 se encontra a caminho do playstation 5 e xbox\\xa0series httpstco1e4mkm21qart ignportugal vamos ter novidades da playstation 👀 \\n\\npara além do preço da ps5 será que vão apresentar mais alguns jogos surpresa\\n\\nsa…detonandogueek playstation 5 em virtude dos exclusivos os jogos da microsoft studios continuaria jogando no pc tendo em vista a falta de interesse em exclusividade da empresaguilhermejarb fuckoffmatt drakesincero1 radioativoth lordpsmg diegolimasilv10 nakedsnakemgsv flameng43027839 sinceromadson5 mrsonysta mrkira800 wendelantunes wesident oldbigboss leandroxp10 aluaqueen yunabr21 rnmgamer93 acho que vai ser tipo assim meio parecido com a do ps3\\nps isso foi mostrado no evento the future of gaming do playstation 5\\nhttpstcog3dm4wgdpea melhor história pra voçe meuplaystation playstationbr no brasileirao playstation 5 vem forte 💪 e digo mais 👀  httpstcouaqsghoqox see more httpstco5ig6hfhz7art playfivebrasil sony acaba de lançar sua nova peça publicitária intitulada de the edge  play has no limits  jogar não tem limites …com gráficos em 4k e possibilidade de 120 fps sucesso da atual geração de consoles garante upgrade gratuito para a next generation httpstcojjooimiwn4\\nrainbowsixsiege ubisoft xboxseriesx playstation5 xboxone playstation4 pc ubisoftbrasil rainbow6game ubisoftconfira minha transmissão do meu playstation 4 ps4live far cry® 5  live at httpstcoy7u2mo5imgfalasemgritar um playstation 2 com dois controles\\n\\numa cômoda 5 gavetas\\n\\nfone de ouvido sony fg600 só o lado esquerdo pega\\n\\nmeio pacote de biscoito maizena piraquêrt rianburguer pessoal tá assim esperando a sony revelar o preço do playstation 5 depois desse xbox series s httpstcom0jjfdplgosony confirmou um novo evento focado no playstation\\xa05\\n\\nhttpstcosrpcgkorv1propaganda do playstation 5 no campeonato brasileiro grêmio x fortaleza o marketing da sony 👏🏾👏🏾👏🏾um novo comercial o playstation5 foi ao ar evidenciando a imersão e realismo da próxima geração que promete romper os limites\\n\\nhttpstcorpwiq16nao httpstcodgvof20ciaconfira minha transmissão do meu playstation 4 ps4live devil may cry 5  live at httpstcornoj0ymivo“o objetivo diz ele é “evocar alguns dos sentimentos que você teria com o playstation 5”\\n\\nnovo comercial do playstation 5 the edge  psx brasil httpstcodbbzbxetippreço do playstation 5 deve ser anunciado nesta quarta httpstcouplhmtq10k httpstcoyy56heqnovthe edge – jogar não tem limites demonstra toda a magnitude da playstation 5 httpstcoe3hz8yxk0g httpstcoh920bzvt8sm4ttheus7 detonator17 felipeheetz meuplaystation playstationbr brasileirao são indústrias diferentes não acho que será assim não e ainda que haja algum aumento não acho que será nada exorbitante acho que na pior das hipóteses fica em 65sony lança tv 8k com selo “ideal para playstation 5” por r 315 mil no brasil httpstco8ao3fllevkddeox downadelli existe mano pesquisa pra vc ver as vovó banca os novinho e da playstation 5rt detonandogueek se os consoles da nova geração fossem lançados hoje qual você compraria e porque ou comprariam a versão mais potente…rt futurebehind já marcaram na agenda \\n\\nplaystation5 playstationpt playstation5showcase \\n\\nhttpstcouieqisedtxppggnaarea xboxbr mundialmente já tem preços nos principais mercados aqui eles vão esperar o preço do playstation 5 sair primeiro estratégia o nome néa playstationbr anuncia um novo playstation 5 showcase com mais novidades sobre o console\\n\\no programa acontecerá na quartafeira 16 de setembro às 17h horário de brasília e terá cerca de 40 minutos de duração \\n\\nconfira em httpstcorbcar4o6a8corre pra comprar o playstation 5 que tá com quase 6 mil reais de desconto 🏃🏽\\u200d♂️🏃🏃🏼\\u200d♀️ httpstcolbdpp6o8xpconfira minha transmissão do meu playstation 4 ps4live nascar heat 5  live at httpstcov8trxl7cnjagora que vi o anúncio do playstation 5 no brasileirãoeukaaroll mellokaylane23 tem umas paradas legais\\n\\num playstation 2 com dois controles\\n\\numa cômoda 5 gavetas\\n\\nfone de ouvido sony fg600 só o lado esquerdo pega\\n\\nmeio pacote de biscoito maizena piraquêexclusivo sony homologa controle de playstation 5 com botão disney no brasil httpstco9uqfi2oberrt brspidey vejo movimentos agressivos da sony para promover o playstation 5 aqui no brasil\\ntá chegando com tudo se liga pessoal http…andreauugusto estadão 1 min preço do playstation 5 deve ser anunciado nesta quarta httpstcojlomh2bmxxconfira minha transmissão do meu playstation 4 ps4live devil may cry 5  live at httpstcoi3zxow8fwpmatheus69818470 drakesincero1 diferente da sony que faz anúncios no youtube e comerciais na tv do playstation 5 e seus jogoseu quero o playstation 5 pq meu pai me deu videogame a vida toda aí eu acho que vai ser uma das melhores sensações eu comprar agoraconfira minha transmissão do meu playstation 4 ps4live tony hawks® pro skater™ 5  live at httpstconjwxvsrdxfflameps5 arkantoshp playstationbr series s nao tem o foco em poder se preocupa com o séries x que é mais poderoso que o playsterco 5rt neeverlong escrevi esse textinho e mostrei que dá pra montar um pc gamer com as especificações de um playstation 5 mas olhanão é b…the edge  play has no limits  jogar não tem limites  playstation 5 httpstcoiphyn4ysae via youtubert dronniedarko ✨rifa do ps4✨\\n• o sorteio será realizado no dia 3 de outubro em uma live no meu instagram\\n• valor da rifa r500\\n• prêmi…alguma doida pra fazermos nosso playstation 5 httpstcoemtnuz7jluconfira minha transmissão do meu playstation 4 ps4live far cry® 5  live at httpstconjm3zaer5vborderlands 3 anunciado para playstation 5 e xbox series httpstcofbixnjg2bifelipeheetz detonator17 meuplaystation playstationbr brasileirao quase só não que vai ser 10 mil nem perto ainda que seja um preço alto como entre 5 e 6drakesincero1 só penso em playstation 5com transmissão ao vivo apresentação de novidades para playstation 5 acontece nesta semana  metro jornal\\n\\nhttpstcokay5bh3hya i httpstcoeycyqllpft\\nplaystation playstationbrasil playstation4 ps4 ps4brasil notíciasplaystation \\nhttpstcojmnunqio77isso levando em consideração que o playstation tem produção nacional no amazonas \\n\\na eleição muito provável do biden que vai mexer com o dólar e tornar ele um pouco menos absurdo\\n\\nsenao no lançamento em até um ano de ps5 de 35 a 4\\n\\ncom uns 500 a menos na sem discoplaystation 5 terá mais detalhes revelados veja como assistir ao evento  ig tecnologia\\n\\nhttpstcokay5bh3hya i httpstcoeycyqllpft\\nplaystation playstationbrasil playstation4 ps4 ps4brasil notíciasplaystation \\nhttpstcowjwecqv3alnamaria tá só eu esses dias e pior tô gastando o que não tenho nas promos que tá rolando na playstation store alguém me seguraaa que ja foram 5 jogos até agora 🆘 httpstco68oojj2shrpreço do playstation 5 deve ser revelado pela sony na quarta 16 »\\xa0httpstcoyfyr80gbtg httpstcopp3ufjt3ltrt nerdsdagalaxiaa the edge  play has no limits  playstation lança um novo comercial de divulgação do playstation 5  httpstcoy4u9…xbox series vs playstation 5 microsoft está a perder dinheiro a sério httpstcouonbmaigdf httpstco4ksbhkeo63rt menosfios no mf a sony irá transmitir um showcase de jogos da playstation 5 httpstcofj6uayke4mxboxbr vou de playstation 5 mesmo obrigadapreço do playstation 5 deve ser revelado pela sony na quarta 16 httpstcokw5ofeleye httpstcos4la8n5wmvputa merda se o preço do playstation 5 sair antes no brasil do que o do xbox vai tá faltando dedicação aí em xboxbr  já saiu no mundo o preço do xbox e aqui não se vocês querem vender façam a parte de vocêscurti o vídeo  the edge  play has no limits  jogar não tem limites  playstation 5  httpstcosd9eon9hcmesta semana há mais um evento dedicado à playstation 5\\nhttpstcob9ldp4d783 httpstco3g3yybaeznfinal fantasy xvi pode ser revelado no evento do playstation 5 rumor httpstcowbflgsrvgr ps4 playstation sony meups4domingão e eu pensando nela™ mesma a plataforma de vídeo jogos playstation 5grand theft auto v\\nchega aos consoles da nova geração em 2021\\n\\ntodos os assinantes de playstation plus no playstation 4 receberão gta1000000 a cada mês que jogarem gta online até o lançamento de gta online no playstation 5\\nhttpstcofjgjdj5nexconfira minha transmissão do meu playstation 4 ps4live devil may cry 5  live at httpstcosg9kfckcvnescolhi montar um pc gamer aos poucos ao invés de querer comprar um playstation 5rt engleooficial o jairbolsonaro quer que as empresas trabalhem com lucro próximo de zero para baixar o preço dos produtos para o povo…playstationpt playstation 5 primeiro de tudo 🤣🤣última hora playstation 5 vai chegar ao mercado a custar 399€ httpstcogzktelcm6h httpstcok24zme8e8fsony divulga mais comercial do playstation 5 um liveaction chamado the edge  play has no limits\\n\\na apresentação com novidades para playstation 5 está marcada para quartafeira 16 de setembro\\nps5 playstation5 playhasnolimits httpstcoqcijaavrlpacredito que que a versão digital do playstation 5 chegue às lojas por us 399 enquanto a convencional seria us 499 para igualar seu concorrenteé basicamente isto para não falar que compram a playstation 5 só com o preço da gpu aconselhada para comp lmao httpstcospwguxrevzserá desta que vamos ficar a saber o preço da consola da sony \\n\\nsabe mais em futurebehind \\n\\nlisboagamesweek lisboagamesweek2020 lgw lgw20 playstationpt \\n\\nhttpstcom6w61jedvxfaze 5\\nimarcher\\n\\nhttpstcoaqfmgv7f4w httpstco4xrl4obz8gfinal fantasy xvi pode ser revelado no evento do playstation 5 rumor httpstcob6foyhd6vb httpstcoiyxlqf2ew9‘borderlands 3’ terá upgrade gratuito para playstation 5 e xbox series\\xa0x httpstcoigwr88n0shse o preço do playstation 5 sair aqui no brasil antes do xbox tem que trocar a administração inteira do xbox brasilplaystationbr no brasileirao playstation 5 vem forte 💪 e digo mais 👀 httpstcopms3vphtpycompare as especificações do playstation 5 digital e xbox series s httpstcoyg2dyfy2ry ps4 playstation sony meups4el corte inglés maior rede de lojas na europa lista o preço do playstation 5 em seu sistema  psx  httpstcofkrphscueqnogitwipiece porque ela quer trocar o playstation 4 pelo 5 ela está guardado dinheiro rt tecnoblog exclusivo sony homologa controle de playstation 5 com botão disney no brasil httpstco9uqfi2oberel corte inglés maior rede de lojas na europa lista o preço do playstation 5 em seu sistema  httpstcofrfbvs7xz5 httpstco7nomjdlgrgrt nerdinterior a playstationbr anuncia um novo playstation 5 showcase com mais novidades sobre o console\\n\\no programa acontecerá na q…quartafeira não haverá livestream de assassins creed rogue\\n\\nem vez dela faremos uma transmissão de reação ao vivo do evento de revelação do playstation 5 na twitch a partir das 16 horaso boato começou após um vídeo httpstcopvvxzfdo7u a cena da foto é de um streamer insider do playstation 5 e aparentemente ele sabe quais são os anúncios do evento não criem expectativas para o gta6 talvez mostrem a versão real do gta5 no ps5 ou rdr2 para o ps5fall guys\\nsem parar prata\\nconquiste o primeiro lugar em 5 rounds de corrida ps4share httpstcoxvwa3of2an httpstcojsdvhg5r16playstation 5 terá suporte a dualshock 4 só em jogos de ps4\\n\\nhttpstco78zmq924mh jogos dualsense playstation5 ps5 sonyxbox series s  29999\\nxbox series x  49990\\n\\nplaystation 5  49990\\nplaystation 5 sem leitor  39990\\n\\nacredito que series s saia entre 199999 a 249990 series x deve sair de 299999 a 399999\\n\\nps 5 deve chegar custando de 349990 a 449990 e sem leitor de 249990 a 349990todos detalhes do playstation 5 serão revelados nesta quartafeira pela sony httpstcobniwbjeeldisto também me interessa porque 1 serei utilizador da disney desde o primeiro dia 2 preciso de trocar o meu apple watch 2 e 3 quero muito a playstation 5 \\n\\naguenta carteirademonstração do playstation 5 será em 16 de setembro saiba como assistir online  canaltech httpstcojpwlrvzzokdrakesincero1 nessa geração eu irei de xbox series x e depois irei comprar um ps5 minha escolha não se deve por poder teraflops ou serviços e sim por que eu não teria onde colocar o playstation 5 httpstcotamb97efogdemonstração do playstation 5 será em 16 de setembro saiba como assistir online tecnologia tech httpstco8ryaz6iwrwrumores indicam que a gigante japonesa estava aguardando o anúncio da concorrência antes de divulgar os valores do ps5\\n playstation5 sony\\nhttpstco6oefntvsltquarta feira tem live da playstation 5 ihihihih lá vem o preçoplaystation 5 comercial quer despertar aquele sentimento de comprar um console novo gt httpstcotqaszktbig httpstcor4bpz7qouvrt crunchyrollpt 📰 sony enfim colocará as cartas na mesa apresentação focada no playstation 5 acontecerá dia 16 de setembro\\n\\nsaiba mais…rt ps3brasil propaganda do playstation 5 aparece em partida do campeonato brasileiro  httpstcolitd0n6spk httpstcol8l6vpvbhodetonandogueek playstation 5\\npor sua inovadora arquitetura que possibilita uma grande grande velocidade nos jogos e claro por seus grande jogosrt nintendospace notícias playstation 5 ps5 pode ter o preço de lançamento revelado esta semana\\n\\nnintendospace playstation ps5reve…com o lançamento do playstation 5 finalmente consigo comprar ps3 galera 🔥'"
      ]
     },
     "execution_count": 56,
     "metadata": {},
     "output_type": "execute_result"
    }
   ],
   "source": [
    "filtro_dados"
   ]
  },
  {
   "cell_type": "code",
   "execution_count": null,
   "metadata": {},
   "outputs": [],
   "source": []
  }
 ],
 "metadata": {
  "kernelspec": {
   "display_name": "Python 3",
   "language": "python",
   "name": "python3"
  },
  "language_info": {
   "codemirror_mode": {
    "name": "ipython",
    "version": 3
   },
   "file_extension": ".py",
   "mimetype": "text/x-python",
   "name": "python",
   "nbconvert_exporter": "python",
   "pygments_lexer": "ipython3",
   "version": "3.7.4"
  }
 },
 "nbformat": 4,
 "nbformat_minor": 4
}
