{
 "cells": [
  {
   "cell_type": "markdown",
   "metadata": {},
   "source": [
    "# Projeto 1 - Ciência dos Dados"
   ]
  },
  {
   "cell_type": "markdown",
   "metadata": {},
   "source": [
    "Nome: Alexandre Cury\n",
    "\n",
    "Nome: Celso H A Diniz"
   ]
  },
  {
   "cell_type": "markdown",
   "metadata": {},
   "source": [
    "**Atenção:** Serão permitidos grupos de três pessoas, mas com uma rubrica mais exigente. Grupos deste tamanho precisarão fazer um questionário de avaliação de trabalho em equipe"
   ]
  },
  {
   "cell_type": "markdown",
   "metadata": {},
   "source": [
    "___\n",
    "Carregando algumas bibliotecas:"
   ]
  },
  {
   "cell_type": "code",
   "execution_count": 105,
   "metadata": {},
   "outputs": [],
   "source": [
    "%matplotlib inline\n",
    "import pandas as pd\n",
    "import matplotlib.pyplot as plt\n",
    "import numpy as np\n",
    "import os\n",
    "import warnings\n",
    "import re\n",
    "import string\n",
    "warnings.filterwarnings(\"ignore\") "
   ]
  },
  {
   "cell_type": "markdown",
   "metadata": {},
   "source": [
    "**Em `filename`, coloque o nome do seu arquivo de dados!**"
   ]
  },
  {
   "cell_type": "code",
   "execution_count": 106,
   "metadata": {},
   "outputs": [
    {
     "name": "stdout",
     "output_type": "stream",
     "text": [
      "Encontrei o arquivo PS5_classificado-2.xlsx, tudo certo para prosseguir com a prova!\n"
     ]
    }
   ],
   "source": [
    "import os\n",
    "#ler os data coletados\n",
    "# -*- coding: utf-8 -*-\n",
    "filename = \"PS5_classificado-2.xlsx\"\n",
    "if filename in os.listdir():\n",
    "    print(f'Encontrei o arquivo {filename}, tudo certo para prosseguir com a prova!')\n",
    "else:\n",
    "    print(f'Não encontrei o arquivo {filename} aqui no diretório {os.getcwd()}, será que você não baixou o arquivo?')"
   ]
  },
  {
   "cell_type": "markdown",
   "metadata": {},
   "source": [
    "Carregando a base de dados com os tweets classificados como relevantes e não relevantes:"
   ]
  },
  {
   "cell_type": "code",
   "execution_count": 107,
   "metadata": {},
   "outputs": [
    {
     "data": {
      "text/html": [
       "<div>\n",
       "<style scoped>\n",
       "    .dataframe tbody tr th:only-of-type {\n",
       "        vertical-align: middle;\n",
       "    }\n",
       "\n",
       "    .dataframe tbody tr th {\n",
       "        vertical-align: top;\n",
       "    }\n",
       "\n",
       "    .dataframe thead th {\n",
       "        text-align: right;\n",
       "    }\n",
       "</style>\n",
       "<table border=\"1\" class=\"dataframe\">\n",
       "  <thead>\n",
       "    <tr style=\"text-align: right;\">\n",
       "      <th></th>\n",
       "      <th>Treinamento</th>\n",
       "      <th>Classificado</th>\n",
       "    </tr>\n",
       "  </thead>\n",
       "  <tbody>\n",
       "    <tr>\n",
       "      <th>0</th>\n",
       "      <td>fortnite no playstation 5 no dia do lançamento...</td>\n",
       "      <td>0</td>\n",
       "    </tr>\n",
       "    <tr>\n",
       "      <th>1</th>\n",
       "      <td>o anúncio ocorre um dia após a sony brasil ter...</td>\n",
       "      <td>0</td>\n",
       "    </tr>\n",
       "    <tr>\n",
       "      <th>2</th>\n",
       "      <td>o playstation 5 é bonito? é! quero um? sim! te...</td>\n",
       "      <td>1</td>\n",
       "    </tr>\n",
       "    <tr>\n",
       "      <th>3</th>\n",
       "      <td>@playstation_br vou ao paraguai e trazer para ...</td>\n",
       "      <td>1</td>\n",
       "    </tr>\n",
       "    <tr>\n",
       "      <th>4</th>\n",
       "      <td>@stefano_poke nao viaja pelo amor de deus....\\...</td>\n",
       "      <td>1</td>\n",
       "    </tr>\n",
       "  </tbody>\n",
       "</table>\n",
       "</div>"
      ],
      "text/plain": [
       "                                         Treinamento  Classificado\n",
       "0  fortnite no playstation 5 no dia do lançamento...             0\n",
       "1  o anúncio ocorre um dia após a sony brasil ter...             0\n",
       "2  o playstation 5 é bonito? é! quero um? sim! te...             1\n",
       "3  @playstation_br vou ao paraguai e trazer para ...             1\n",
       "4  @stefano_poke nao viaja pelo amor de deus....\\...             1"
      ]
     },
     "execution_count": 107,
     "metadata": {},
     "output_type": "execute_result"
    }
   ],
   "source": [
    "data = pd.read_excel(\"PS5_classificado-2.xlsx\")\n",
    "data.head()"
   ]
  },
  {
   "cell_type": "code",
   "execution_count": null,
   "metadata": {},
   "outputs": [],
   "source": []
  },
  {
   "cell_type": "markdown",
   "metadata": {},
   "source": [
    "___\n",
    "## Classificador automático de sentimento\n"
   ]
  },
  {
   "cell_type": "markdown",
   "metadata": {},
   "source": [
    "Faça aqui uma descrição do seu produto e o que considerou como relevante ou não relevante na classificação dos tweets.\n",
    "\n",
    "O produto escolhido foi o Playstation 5, que teve seu lançamento recente e coinciencidente com a data de publição do projeto, e o anúncio do seu preço no Brasil.\n",
    "O tweet considerava relevante continha a indicação sobre a inteção ou não intenção de compra do produto, considerando o preço pelo o qual será vendido no Brasil"
   ]
  },
  {
   "cell_type": "markdown",
   "metadata": {},
   "source": [
    "___\n",
    "### Montando um Classificador Naive-Bayes\n",
    "\n",
    "Considerando apenas as mensagens da planilha Treinamento, ensine  seu classificador."
   ]
  },
  {
   "cell_type": "code",
   "execution_count": 108,
   "metadata": {},
   "outputs": [
    {
     "data": {
      "text/html": [
       "<div>\n",
       "<style scoped>\n",
       "    .dataframe tbody tr th:only-of-type {\n",
       "        vertical-align: middle;\n",
       "    }\n",
       "\n",
       "    .dataframe tbody tr th {\n",
       "        vertical-align: top;\n",
       "    }\n",
       "\n",
       "    .dataframe thead th {\n",
       "        text-align: right;\n",
       "    }\n",
       "</style>\n",
       "<table border=\"1\" class=\"dataframe\">\n",
       "  <thead>\n",
       "    <tr style=\"text-align: right;\">\n",
       "      <th></th>\n",
       "      <th>Treinamento</th>\n",
       "      <th>Classificado</th>\n",
       "    </tr>\n",
       "  </thead>\n",
       "  <tbody>\n",
       "    <tr>\n",
       "      <th>0</th>\n",
       "      <td>fortnite no playstation 5 no dia do lançamento...</td>\n",
       "      <td>relevante</td>\n",
       "    </tr>\n",
       "    <tr>\n",
       "      <th>1</th>\n",
       "      <td>o anúncio ocorre um dia após a sony brasil ter...</td>\n",
       "      <td>relevante</td>\n",
       "    </tr>\n",
       "    <tr>\n",
       "      <th>2</th>\n",
       "      <td>o playstation 5 é bonito? é! quero um? sim! te...</td>\n",
       "      <td>irrelevante</td>\n",
       "    </tr>\n",
       "    <tr>\n",
       "      <th>3</th>\n",
       "      <td>@playstation_br vou ao paraguai e trazer para ...</td>\n",
       "      <td>irrelevante</td>\n",
       "    </tr>\n",
       "    <tr>\n",
       "      <th>4</th>\n",
       "      <td>@stefano_poke nao viaja pelo amor de deus....\\...</td>\n",
       "      <td>irrelevante</td>\n",
       "    </tr>\n",
       "  </tbody>\n",
       "</table>\n",
       "</div>"
      ],
      "text/plain": [
       "                                         Treinamento Classificado\n",
       "0  fortnite no playstation 5 no dia do lançamento...    relevante\n",
       "1  o anúncio ocorre um dia após a sony brasil ter...    relevante\n",
       "2  o playstation 5 é bonito? é! quero um? sim! te...  irrelevante\n",
       "3  @playstation_br vou ao paraguai e trazer para ...  irrelevante\n",
       "4  @stefano_poke nao viaja pelo amor de deus....\\...  irrelevante"
      ]
     },
     "execution_count": 108,
     "metadata": {},
     "output_type": "execute_result"
    }
   ],
   "source": [
    "# definir 0 como irrelevante e 1 como relevante, variavel categorica\n",
    "\n",
    "data[\"Classificado\"] = data[\"Classificado\"].astype('category')\n",
    "data[\"Classificado\"].cat.categories = ['relevante', 'irrelevante']\n",
    "data.head()"
   ]
  },
  {
   "cell_type": "code",
   "execution_count": 109,
   "metadata": {},
   "outputs": [
    {
     "data": {
      "text/plain": [
       "relevante      0.703333\n",
       "irrelevante    0.296667\n",
       "Name: Classificado, dtype: float64"
      ]
     },
     "execution_count": 109,
     "metadata": {},
     "output_type": "execute_result"
    }
   ],
   "source": [
    "def clean(tweet):\n",
    "    return ''.join([i if ord(i) < 128 else '' for i in tweet])\n",
    "data[\"Treinamento\"] = data[\"Treinamento\"].apply(clean)\n",
    "data[\"Treinamento\"] = data[\"Treinamento\"].apply(lambda x: x.lower())\n",
    "data[\"Treinamento\"] = data[\"Treinamento\"].apply(lambda x: x.replace('.',' '))\n",
    "data[\"Treinamento\"] = data[\"Treinamento\"].apply(lambda x: x.replace('\\n',' '))\n",
    "data[\"Treinamento\"] = data[\"Treinamento\"].apply(lambda x: x.replace('?',' '))\n",
    "data[\"Treinamento\"] = data[\"Treinamento\"].apply(lambda x: x.replace('!',' '))\n",
    "data[\"Treinamento\"] = data[\"Treinamento\"].apply(lambda x: x.replace('\"',' '))\n",
    "data[\"Treinamento\"] = data[\"Treinamento\"].apply(lambda x: x.replace(';',' '))\n",
    "data[\"Treinamento\"] = data[\"Treinamento\"].apply(lambda x: x.replace('#',' '))\n",
    "data[\"Treinamento\"] = data[\"Treinamento\"].apply(lambda x: x.replace('&amp',' '))\n",
    "data[\"Treinamento\"] = data[\"Treinamento\"].apply(lambda x: x.replace(',',' '))\n",
    "data.Classificado.value_counts(True)"
   ]
  },
  {
   "cell_type": "code",
   "execution_count": 110,
   "metadata": {},
   "outputs": [],
   "source": [
    "filtro_data = data.Treinamento.str.cat()\n",
    "filtro_data = re.sub(\"[\" + string.punctuation + \"]\", \"\", filtro_data.lower())\n",
    "palavras = filtro_data.split() # lista de todas as palavras \n",
    "\n"
   ]
  },
  {
   "cell_type": "code",
   "execution_count": 111,
   "metadata": {},
   "outputs": [
    {
     "name": "stdout",
     "output_type": "stream",
     "text": [
      "O total de palavras na planilha é:  5622\n",
      "----------------------------------------------------\n",
      "O total de palavras em relevantes é:  3954.14\n",
      "----------------------------------------------------\n",
      "O total de palavras em irrelevantes é:  1667.86\n",
      "----------------------------------------------------\n",
      "A probabilidade de palavras em relevantes é:  0.703\n",
      "----------------------------------------------------\n",
      "A probabilidade de palavras em relevantes é:  0.297\n"
     ]
    }
   ],
   "source": [
    "total = len(palavras) #numero total de palvras na base de dados\n",
    "num_rel = data.Classificado.value_counts(True)[0] # porcentagem de items relevantes\n",
    "num_irr = data.Classificado.value_counts(True)[1] # porcentagens de itens irrelevantes\n",
    "palavras_relevantes = total*data.Classificado.value_counts(True)[0]\n",
    "palavras_irrelevantes = total*data.Classificado.value_counts(True)[1]\n",
    "print(\"O total de palavras na planilha é: \",total)\n",
    "print(52*\"-\")\n",
    "print(\"O total de palavras em relevantes é: \", palavras_relevantes.round(3))\n",
    "print(52*\"-\")\n",
    "print(\"O total de palavras em irrelevantes é: \", palavras_irrelevantes.round(3))\n",
    "print(52*\"-\")\n",
    "print(\"A probabilidade de palavras em relevantes é: \",num_rel.round(3))\n",
    "print(52*\"-\")\n",
    "print(\"A probabilidade de palavras em relevantes é: \",num_irr.round(3))"
   ]
  },
  {
   "cell_type": "markdown",
   "metadata": {},
   "source": [
    "# Tabelas relevantes"
   ]
  },
  {
   "cell_type": "markdown",
   "metadata": {},
   "source": [
    "## Tabela absoluta relevante"
   ]
  },
  {
   "cell_type": "code",
   "execution_count": 112,
   "metadata": {},
   "outputs": [
    {
     "name": "stdout",
     "output_type": "stream",
     "text": [
      "5              174\n",
      "playstation    141\n",
      "https://t      141\n",
      "no             123\n",
      "o              113\n",
      "              ... \n",
      "voc              1\n",
      "aumenta          1\n",
      "padro            1\n",
      "cobrir           1\n",
      "creio            1\n",
      "Length: 1268, dtype: int64\n",
      "Numero total de palavras relevantes:  4059\n"
     ]
    }
   ],
   "source": [
    "relevante = data[\"Classificado\"] == 'relevante' # pegar somente dados classificados como relevante\n",
    "data_relevante = data.loc[relevante, :] # filtrar no dataframe\n",
    "tweet_relevante = pd.Series(data_relevante.Treinamento) #gera uma series de dados relevantes\n",
    "tweet_relevante = pd.DataFrame(tweet_relevante) #transforma a series em um dataframe\n",
    "tweet_relevante[\"Treinamento\"] = tweet_relevante[\"Treinamento\"].apply(clean)\n",
    "palavras_relevantes = tweet_relevante.Treinamento.str.cat() # transforma o dataframe em uma lista de palavras\n",
    "palavras_relevantes = palavras_relevantes.split()\n",
    "palavras_relevantes = pd.Series(palavras_relevantes)\n",
    "\n",
    "\n",
    "abs_relevante = palavras_relevantes.value_counts()\n",
    "total_relevante = abs_relevante.sum()\n",
    "print(abs_relevante)\n",
    "print(\"Numero total de palavras relevantes: \", total_relevante)\n",
    "\n",
    "\n"
   ]
  },
  {
   "cell_type": "markdown",
   "metadata": {},
   "source": [
    "## Tabela Relativa"
   ]
  },
  {
   "cell_type": "code",
   "execution_count": 113,
   "metadata": {},
   "outputs": [
    {
     "name": "stdout",
     "output_type": "stream",
     "text": [
      "5              0.042868\n",
      "playstation    0.034738\n",
      "https://t      0.034738\n",
      "no             0.030303\n",
      "o              0.027839\n",
      "                 ...   \n",
      "voc            0.000246\n",
      "aumenta        0.000246\n",
      "padro          0.000246\n",
      "cobrir         0.000246\n",
      "creio          0.000246\n",
      "Length: 1268, dtype: float64\n",
      "1.0\n"
     ]
    }
   ],
   "source": [
    "rel_relevante = palavras_relevantes.value_counts(True)\n",
    "print(rel_relevante)\n",
    "print(rel_relevante.sum())"
   ]
  },
  {
   "cell_type": "markdown",
   "metadata": {},
   "source": [
    "# Tabelas Irrelevantes"
   ]
  },
  {
   "cell_type": "markdown",
   "metadata": {},
   "source": [
    "## Tabela absoluta"
   ]
  },
  {
   "cell_type": "code",
   "execution_count": 114,
   "metadata": {},
   "outputs": [
    {
     "name": "stdout",
     "output_type": "stream",
     "text": [
      "5              91\n",
      "playstation    72\n",
      "o              61\n",
      "eu             40\n",
      "um             39\n",
      "               ..\n",
      "pack            1\n",
      "sony            1\n",
      "rgos            1\n",
      "srio            1\n",
      "disso           1\n",
      "Length: 606, dtype: int64\n",
      "Numero total de palavras irrelevantes:  1613\n"
     ]
    }
   ],
   "source": [
    "irrelevante = data[\"Classificado\"] == 'irrelevante' # pegar somente dados classificados como relevante\n",
    "data_irrelevante = data.loc[irrelevante, :] # filtrar no dataframe\n",
    "tweet_irrelevante = pd.Series(data_irrelevante.Treinamento) #gera uma series de dados relevantes\n",
    "tweet_irrelevante = pd.DataFrame(tweet_irrelevante) #transforma a series em um dataframe\n",
    "tweet_irrelevante[\"Treinamento\"] = tweet_irrelevante[\"Treinamento\"].apply(clean)\n",
    "palavras_irrelevantes = tweet_irrelevante.Treinamento.str.cat() # transforma o dataframe em uma lista de palavras\n",
    "palavras_irrelevantes = palavras_irrelevantes.split()\n",
    "palavras_irrelevantes = pd.Series(palavras_irrelevantes)\n",
    "\n",
    "\n",
    "abs_irrelevante = palavras_irrelevantes.value_counts()\n",
    "total_irrelevante = abs_irrelevante.sum()\n",
    "print(abs_irrelevante)\n",
    "print(\"Numero total de palavras irrelevantes: \", total_irrelevante)\n",
    "\n",
    "\n",
    "\n",
    "\n"
   ]
  },
  {
   "cell_type": "markdown",
   "metadata": {},
   "source": [
    "## Tabela relativa"
   ]
  },
  {
   "cell_type": "code",
   "execution_count": 115,
   "metadata": {},
   "outputs": [
    {
     "name": "stdout",
     "output_type": "stream",
     "text": [
      "5              0.056417\n",
      "playstation    0.044637\n",
      "o              0.037818\n",
      "eu             0.024799\n",
      "um             0.024179\n",
      "                 ...   \n",
      "pack           0.000620\n",
      "sony           0.000620\n",
      "rgos           0.000620\n",
      "srio           0.000620\n",
      "disso          0.000620\n",
      "Length: 606, dtype: float64\n",
      "0.9999999999999999\n"
     ]
    }
   ],
   "source": [
    "## Tabela relativa\n",
    "rel_irrelevante = palavras_irrelevantes.value_counts(True)\n",
    "print(rel_irrelevante)\n",
    "print(rel_irrelevante.sum())"
   ]
  },
  {
   "cell_type": "markdown",
   "metadata": {},
   "source": [
    "# Dashboard: panorama inicial "
   ]
  },
  {
   "cell_type": "code",
   "execution_count": 116,
   "metadata": {},
   "outputs": [
    {
     "name": "stdout",
     "output_type": "stream",
     "text": [
      "Numero total de palavras relevantes é:  4059\n",
      "-------------------------------------------------------\n",
      "Numero total de palavras irrelevantes é:  1613\n",
      "-------------------------------------------------------\n",
      "Numero total de palavras apos o filtro/ajustes é:  5672\n"
     ]
    }
   ],
   "source": [
    "print(\"Numero total de palavras relevantes é: \", total_relevante)\n",
    "print(55*\"-\")\n",
    "print(\"Numero total de palavras irrelevantes é: \", total_irrelevante)\n",
    "print(55*\"-\")\n",
    "total2 = total_relevante+total_irrelevante # apos o filtro\n",
    "\n",
    "print(\"Numero total de palavras apos o filtro/ajustes é: \",  total2)"
   ]
  },
  {
   "cell_type": "markdown",
   "metadata": {},
   "source": [
    "# Probabilidades"
   ]
  },
  {
   "cell_type": "code",
   "execution_count": 117,
   "metadata": {},
   "outputs": [
    {
     "name": "stdout",
     "output_type": "stream",
     "text": [
      "A probabilidade de ser relevante é:  0.715620592383639\n",
      "A probabilidade de ser irrelevante é:  0.28437940761636105\n",
      "Checagem:  1.0\n"
     ]
    }
   ],
   "source": [
    "#probabilidade de ser relevante ou irrelevante\n",
    "\n",
    "prob_rel = total_relevante/total2\n",
    "prob_irr = total_irrelevante/total2\n",
    "checagem = prob_rel+prob_irr\n",
    "print(\"A probabilidade de ser relevante é: \", prob_rel) # palavras\n",
    "print(\"A probabilidade de ser irrelevante é: \", prob_irr) # palavras\n",
    "print(\"Checagem: \",checagem)\n",
    "\n",
    "\n"
   ]
  },
  {
   "cell_type": "markdown",
   "metadata": {},
   "source": [
    "# Classificador"
   ]
  },
  {
   "cell_type": "code",
   "execution_count": 118,
   "metadata": {},
   "outputs": [],
   "source": [
    "prob_tweet_rel = 1\n",
    "prob_tweet_irr = 1\n",
    "\n",
    "\n",
    "\n",
    "lista_rel = []\n",
    "lista_irr = []\n",
    "\n",
    "a = \"relevante\"\n",
    "b = \"irrelevante\"\n",
    "\n",
    "for tweet in data.Treinamento:\n",
    "    tweet = clean(tweet)\n",
    "    tweet = tweet.split()\n",
    "    \n",
    "    for i in range(len(tweet)):\n",
    "        if tweet[i] in rel_relevante:\n",
    "            prob_tweet_rel *= (abs_relevante[tweet[i]]+1)/(total_relevante+total2)\n",
    "        else:\n",
    "            prob_tweet_rel *= (0+1)/(total_relevante+total2)\n",
    "\n",
    "        \n",
    "        if tweet[i] in rel_irrelevante:\n",
    "            prob_tweet_irr *= (abs_irrelevante[tweet[i]]+1)/(total_irrelevante+total2)\n",
    "        else:\n",
    "            prob_tweet_irr *= (0+1)/(total_irrelevante+total2)\n",
    "            \n",
    "\n",
    "\n",
    "\n",
    "            if (prob_tweet_rel*prob_rel) > (prob_tweet_irr*prob_irr):\n",
    "\n",
    "                lista_rel.append(\"relevante\")"
   ]
  },
  {
   "cell_type": "code",
   "execution_count": null,
   "metadata": {},
   "outputs": [],
   "source": []
  },
  {
   "cell_type": "markdown",
   "metadata": {},
   "source": [
    "___\n",
    "### Verificando a performance do Classificador\n",
    "\n",
    "Agora você deve testar o seu classificador com a base de Testes."
   ]
  },
  {
   "cell_type": "code",
   "execution_count": 119,
   "metadata": {},
   "outputs": [
    {
     "name": "stdout",
     "output_type": "stream",
     "text": [
      "o numero total de tweets no classificador é: 300\n",
      "-------------------------------------------------------\n",
      "o numero de tweets classificados como relevantes é:  27\n",
      "-------------------------------------------------------\n",
      "a probabilidade dos tweets serem relevantes é:  0.09\n",
      "-------------------------------------------------------\n",
      "a probabilidade dos tweets serem irrelevantes é:  0.91\n"
     ]
    }
   ],
   "source": [
    "total_classificado = len(data.Treinamento)\n",
    "total_rel_classificado = len(lista_rel)\n",
    "prob_rel_classificada = len(lista_rel)/len(data.Treinamento)\n",
    "prob_irr_classificada = 1-((len(lista_rel)/len(data.Treinamento)))\n",
    "\n",
    "\n",
    "\n",
    "print(\"o numero total de tweets no classificador é:\", total_classificado)\n",
    "print(55*\"-\")\n",
    "print(\"o numero de tweets classificados como relevantes é: \", total_rel_classificado)\n",
    "print(55*\"-\")\n",
    "print(\"a probabilidade dos tweets serem relevantes é: \", prob_rel_classificada)\n",
    "print(55*\"-\")\n",
    "print(\"a probabilidade dos tweets serem irrelevantes é: \", prob_irr_classificada)"
   ]
  },
  {
   "cell_type": "markdown",
   "metadata": {},
   "source": [
    "# Comparação com o previsto"
   ]
  },
  {
   "cell_type": "code",
   "execution_count": 120,
   "metadata": {},
   "outputs": [
    {
     "name": "stdout",
     "output_type": "stream",
     "text": [
      "A probabilidade esperada de ser relevante é:  0.72\n",
      "-------------------------------------------------------\n",
      "A probabilidade apos o classificador:  0.09\n",
      "-------------------------------------------------------\n",
      "Diferenca de:  0.63\n",
      "-------------------------------------------------------\n",
      "   \n",
      "A probabilidade esperada de ser irrelevante é:  0.28\n",
      "-------------------------------------------------------\n",
      "A probabilidade calculada pelo classificador:  0.91\n",
      "-------------------------------------------------------\n",
      "Diferenca de:  0.63\n"
     ]
    }
   ],
   "source": [
    "print(\"A probabilidade esperada de ser relevante é: \", prob_rel.round(2))\n",
    "print(55*\"-\")\n",
    "print(\"A probabilidade apos o classificador: \", prob_rel_classificada) \n",
    "print(55*\"-\")\n",
    "print(\"Diferenca de: \", (prob_rel - prob_rel_classificada).round(2))\n",
    "print(55*\"-\")\n",
    "print(\"   \")\n",
    "print(\"A probabilidade esperada de ser irrelevante é: \", prob_irr.round(2))\n",
    "print(55*\"-\")\n",
    "print(\"A probabilidade calculada pelo classificador: \", prob_irr_classificada) \n",
    "print(55*\"-\")\n",
    "print(\"Diferenca de: \", (prob_irr_classificada - prob_irr).round(2))\n",
    "\n",
    "\n"
   ]
  },
  {
   "cell_type": "code",
   "execution_count": null,
   "metadata": {},
   "outputs": [],
   "source": []
  },
  {
   "cell_type": "markdown",
   "metadata": {},
   "source": [
    "___\n",
    "### Concluindo"
   ]
  },
  {
   "cell_type": "markdown",
   "metadata": {},
   "source": [
    "\n",
    "Podemos reparar que o classificador divergiu bastante do que era esperado,resultando em uma diferenca de 63%.\n",
    "Isso se deve a alguns motivos como o fato do Playstation 5 aindao nao ter cido lançado, gerou muitas especulacoes, mesmo que grande parte delas fosse relevante para algumas pessoas. Outra possibilidade é que o gosto variado das pessoas em relacao a consoles varia muito e em muitos casos quem costuma jogar bastante tem mais de um console.\n",
    "\n",
    "Um uso muito interessante do Classificador seria a classificao de mensagens de texto e apps de comunicação no geral. Coletando dados de uso do usuario, poderia ser facilmente feito um app que detecta que uma pessoas que enviou uma mensagem de texto utilizando o celular de um amigo/amiga, baseado no padrão e no historico da conversa entre os dois. Ou ainda, o app poderia evitar o envio me mensagens caso um numero fosse clonado, evitando que criminosos Peçam dinheiro, se passando pelo dono do telefone.\n",
    "\n",
    "O próprio classificador nao pode ser usado para gerar mais amostras de treinamento, devido que o padrao tem chances de se repetir e os resultados podem sempre serem os mesmos.\n",
    "\n",
    "\n",
    "Se for analizar os dados baseado na intenção de compra pelo preço, é muitos provavel que os brasileiros não comprariam o produto devido ao seu alto custo no pais, cerca de quase 5 vezes o salario minimo."
   ]
  },
  {
   "cell_type": "code",
   "execution_count": null,
   "metadata": {},
   "outputs": [],
   "source": []
  },
  {
   "cell_type": "markdown",
   "metadata": {},
   "source": [
    "___\n",
    "## Aperfeiçoamento:\n",
    "\n",
    "Os trabalhos vão evoluir em conceito dependendo da quantidade de itens avançados:\n",
    "\n",
    "* Limpar: \\n, :, \", ', (, ), etc SEM remover emojis\n",
    "* Corrigir separação de espaços entre palavras e emojis ou entre emojis e emojis\n",
    "* Propor outras limpezas e transformações que não afetem a qualidade da informação ou classificação\n",
    "* Criar categorias intermediárias de relevância baseadas na probabilidade: ex.: muito relevante, relevante, neutro, irrelevante, muito irrelevante (3 categorias: C, mais categorias conta para B)\n",
    "* Explicar por que não posso usar o próprio classificador para gerar mais amostras de treinamento\n",
    "* Propor diferentes cenários para Naïve Bayes fora do contexto do projeto\n",
    "* Sugerir e explicar melhorias reais com indicações concretas de como implementar (indicar como fazer e indicar material de pesquisa)\n",
    "* Montar um dashboard que realiza análise de sentimento e visualiza estes dados"
   ]
  },
  {
   "cell_type": "markdown",
   "metadata": {},
   "source": [
    "___\n",
    "## Referências"
   ]
  },
  {
   "cell_type": "markdown",
   "metadata": {},
   "source": [
    "[Naive Bayes and Text Classification](https://arxiv.org/pdf/1410.5329.pdf)  **Mais completo**\n",
    "\n",
    "[A practical explanation of a Naive Bayes Classifier](https://monkeylearn.com/blog/practical-explanation-naive-bayes-classifier/) **Mais simples**"
   ]
  },
  {
   "cell_type": "code",
   "execution_count": null,
   "metadata": {},
   "outputs": [],
   "source": []
  }
 ],
 "metadata": {
  "kernelspec": {
   "display_name": "Python 3",
   "language": "python",
   "name": "python3"
  },
  "language_info": {
   "codemirror_mode": {
    "name": "ipython",
    "version": 3
   },
   "file_extension": ".py",
   "mimetype": "text/x-python",
   "name": "python",
   "nbconvert_exporter": "python",
   "pygments_lexer": "ipython3",
   "version": "3.7.6"
  }
 },
 "nbformat": 4,
 "nbformat_minor": 4
}
